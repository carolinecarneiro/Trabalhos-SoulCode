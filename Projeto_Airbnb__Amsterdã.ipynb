{
  "nbformat": 4,
  "nbformat_minor": 0,
  "metadata": {
    "colab": {
      "provenance": [],
      "include_colab_link": true
    },
    "kernelspec": {
      "name": "python3",
      "display_name": "Python 3"
    },
    "language_info": {
      "name": "python"
    }
  },
  "cells": [
    {
      "cell_type": "markdown",
      "metadata": {
        "id": "view-in-github",
        "colab_type": "text"
      },
      "source": [
        "<a href=\"https://colab.research.google.com/github/carolinecarneiro/Trabalhos-SoulCode/blob/main/Projeto_Airbnb__Amsterd%C3%A3.ipynb\" target=\"_parent\"><img src=\"https://colab.research.google.com/assets/colab-badge.svg\" alt=\"Open In Colab\"/></a>"
      ]
    },
    {
      "cell_type": "markdown",
      "source": [
        "Escola: SoulCode Academy\n",
        "\n",
        "Curso: Bootcamp Analista de Dados - Martech - AD2\n",
        "\n",
        "Professor: Franciane Rodrigues\n",
        "\n",
        "Aluno: Caroline Carneiro\n"
      ],
      "metadata": {
        "id": "VBn6XAOB7CtQ"
      }
    },
    {
      "cell_type": "markdown",
      "source": [],
      "metadata": {
        "id": "Ow92H_sPMoUk"
      }
    },
    {
      "cell_type": "markdown",
      "source": [
        "## Requisitos:\n",
        "\n",
        "Pergunta de negócio: Faça uma análise exploratória de dados com a base de dados do Airbnb e indique possíveis oportunidades e/ou ameaças para o empreendimento.\n",
        "\n",
        "Nível - Tratamento e Análise\n",
        "Verificar todos os passos da estratégia de análise geral de análise de dados;\n",
        "Executar o que for necessário;\n",
        "Todos os passos devem ser comentados;\n",
        "Realizar no mínimo 3 análises apenas numéricas;\n",
        "Realizar plotagens para no mínimo 3 análises;\n",
        "Chegar a uma conclusão de sua análise;\n",
        "\n",
        "Nivel Infra\n",
        "O Dataset deve ser salvo em ambiente local  \n",
        "(Google Drive) - (bruto e tratado)\n",
        "O Dataset deve ser salvo em ambiente cloud (Cloud Storage) - (bruto e tratado) (será mostrado em aula!)\n",
        "O Arquivo original e tratado deve ser salvo em MongoDB Atlas em coleções diferentes (será mostrado em aula!)\n",
        "\n",
        "O que será analisado:\n",
        "Pontualidade;\n",
        "Organização de código;\n",
        "Atendimento aos requisitos;\n",
        "Capacidade de Pesquisa e Autonomia;\n",
        "Aplicação da Estratégia de Geral de Análise de Dados;\n",
        "Observação: Em caso de algum(ns) itens não forem contemplados, realize a entrega do que foi concluído com justificativa. Em momento oportuno, solicitaremos acesso aos ambientes em nuvem do projeto."
      ],
      "metadata": {
        "id": "KDHolCZ5P34m"
      }
    },
    {
      "cell_type": "markdown",
      "source": [
        "## Declaração das variáveis\n",
        "\n",
        "* realsum: preço total da listagem\n",
        "* room_type: tipo de quarto oferecido\n",
        "* room_shared: se é quarto compartilhado ou não\n",
        "* room_private: se é quarto privativo ou não\n",
        "* person_capacity: número máximo de pessoas permitidas\n",
        "* host_is_superhost: se é superhost ou não\n",
        "* multi: se é para várias salas ou não\n",
        "* biz: para uso comercial ou familiar\n",
        "* cleanliness_rating: classificação de limpeza\n",
        "* guest_satisfaction_overall: satisfação geral do hóspede\n",
        "* bedroomsn: número de quartos (0 para estúdios)\n",
        "* dist: a distância do centro da cidade\n",
        "* metro_dist: distância da estação de metrô mais próxima\n",
        "* attr_index: índice de atração do local do anúncio\n",
        "* attr_index_norm: índice de atração normalizado (0-100)\n",
        "* rest_index: índice do restaurante do local da listagem\n",
        "* rest_index_norm: índice de restaurante normalizado (0-100)\n",
        "* lng: valor da longitude\n",
        "* lat: valor da latitude\n",
        "\n",
        "\n",
        "\n",
        "\n"
      ],
      "metadata": {
        "id": "kuO6wOjvKzFd"
      }
    },
    {
      "cell_type": "markdown",
      "source": [
        "# ETL\n",
        "Extração, transformação, carregamento e possível automação do processo de etl dos dados.\n"
      ],
      "metadata": {
        "id": "1J_bHlTG0UPq"
      }
    },
    {
      "cell_type": "markdown",
      "source": [
        "## Install e Libs\n",
        "Instalações e importações das bibliotecas necessárias para o processo de ETL."
      ],
      "metadata": {
        "id": "L7abbfpEBjvV"
      }
    },
    {
      "cell_type": "code",
      "source": [
        "# Executar uma vez\n",
        "!pip install gcsfs\n",
        "!pip install pandera"
      ],
      "metadata": {
        "id": "8AwhoE3OB1Ne"
      },
      "execution_count": null,
      "outputs": []
    },
    {
      "cell_type": "code",
      "execution_count": 2,
      "metadata": {
        "id": "Xm0WsextzstA"
      },
      "outputs": [],
      "source": [
        "import pandas as pd\n",
        "import numpy as np\n",
        "import matplotlib.pyplot as plt\n",
        "import os\n",
        "import pandera as pa\n",
        "from google.colab import drive\n",
        "from google.cloud import storage\n",
        "import seaborn as sns"
      ]
    },
    {
      "cell_type": "markdown",
      "source": [
        "## Extração"
      ],
      "metadata": {
        "id": "0dZJqZvm1DES"
      }
    },
    {
      "cell_type": "code",
      "source": [
        "#Configuração da quantidade de colunas para aparecer em um Datraframe\n",
        "pd.set_option('display.max_columns',100)"
      ],
      "metadata": {
        "id": "giSOyrndYsA2"
      },
      "execution_count": 3,
      "outputs": []
    },
    {
      "cell_type": "code",
      "source": [
        "#drive.mount('/content/drive')"
      ],
      "metadata": {
        "id": "jRs4Kb3fTgfc"
      },
      "execution_count": 4,
      "outputs": []
    },
    {
      "cell_type": "code",
      "source": [
        "# CONFIGURANDO DA CHAVE DE SEGURANCA - ACESSO O PROJETO\n",
        "serviceAccount = '/content/projetocaroline-fd3f6c5d07d2.json'\n",
        "os.environ['GOOGLE_APPLICATION_CREDENTIALS'] = serviceAccount"
      ],
      "metadata": {
        "id": "1Jb_IuotjS85"
      },
      "execution_count": 5,
      "outputs": []
    },
    {
      "cell_type": "code",
      "source": [
        "# # # Configurações Google Cloud Storage - ACESSO AO BUCKET\n",
        "client = storage.Client()\n",
        "bucket = client.get_bucket('caroline_carneiro')                         # nome da bucket\n",
        "bucket.blob('airbnb_bruto.csv')                                     # nome do arquivo\n",
        "path = 'gs://caroline_carneiro/Projeto Airbnb/dados_brutos/airbnb_bruto.csv'   # gsutil"
      ],
      "metadata": {
        "id": "ETKXRD-ujgS5"
      },
      "execution_count": 6,
      "outputs": []
    },
    {
      "cell_type": "code",
      "source": [
        "# Abertura da base de dados (bucket)\n",
        "df = pd.read_csv(path,\n",
        "                 sep=',',\n",
        "                 encoding='ISO-8859-1',\n",
        "                 dayfirst = True)\n",
        "dfback = df.copy()"
      ],
      "metadata": {
        "id": "DUKI9cWZjli6"
      },
      "execution_count": 7,
      "outputs": []
    },
    {
      "cell_type": "markdown",
      "source": [
        "## **Pré-Análise**"
      ],
      "metadata": {
        "id": "5TnOFsENbwMz"
      }
    },
    {
      "cell_type": "code",
      "source": [
        "# visualizando\n",
        "df"
      ],
      "metadata": {
        "id": "y5Fz5NfdbNIm",
        "colab": {
          "base_uri": "https://localhost:8080/",
          "height": 678
        },
        "outputId": "07eb0c59-7f04-4888-90c1-79cb39b13d9c"
      },
      "execution_count": 8,
      "outputs": [
        {
          "output_type": "execute_result",
          "data": {
            "text/plain": [
              "      Unnamed: 0      realSum        room_type  room_shared  room_private  \\\n",
              "0              0   194.033698     Private room        False          True   \n",
              "1              1   344.245776     Private room        False          True   \n",
              "2              2   264.101422     Private room        False          True   \n",
              "3              3   433.529398     Private room        False          True   \n",
              "4              4   485.552926     Private room        False          True   \n",
              "...          ...          ...              ...          ...           ...   \n",
              "1098        1098  2486.115342  Entire home/apt        False         False   \n",
              "1099        1099   233.637194     Private room        False          True   \n",
              "1100        1100   317.062311     Private room        False          True   \n",
              "1101        1101  1812.855904  Entire home/apt        False         False   \n",
              "1102        1102   258.008577      Shared room         True         False   \n",
              "\n",
              "      person_capacity  host_is_superhost  multi  biz  cleanliness_rating  \\\n",
              "0                 2.0              False      1    0                10.0   \n",
              "1                 4.0              False      0    0                 8.0   \n",
              "2                 2.0              False      0    1                 9.0   \n",
              "3                 4.0              False      0    1                 9.0   \n",
              "4                 2.0               True      0    0                10.0   \n",
              "...               ...                ...    ...  ...                 ...   \n",
              "1098              2.0              False      0    0                10.0   \n",
              "1099              2.0              False      1    0                10.0   \n",
              "1100              2.0              False      1    0                10.0   \n",
              "1101              4.0              False      0    0                 8.0   \n",
              "1102              2.0              False      0    0                 8.0   \n",
              "\n",
              "      guest_satisfaction_overall  bedrooms      dist  metro_dist  attr_index  \\\n",
              "0                           93.0         1  5.022964    2.539380   78.690379   \n",
              "1                           85.0         1  0.488389    0.239404  631.176378   \n",
              "2                           87.0         1  5.748312    3.651621   75.275877   \n",
              "3                           90.0         2  0.384862    0.439876  493.272534   \n",
              "4                           98.0         1  0.544738    0.318693  552.830324   \n",
              "...                          ...       ...       ...         ...         ...   \n",
              "1098                       100.0         1  2.375833    1.436054  181.198355   \n",
              "1099                        90.0         1  4.719736    0.322263  108.024880   \n",
              "1100                        92.0         1  0.598355    0.751993  440.476515   \n",
              "1101                        84.0         5  1.943020    0.388532  257.948105   \n",
              "1102                        90.0         1  0.280204    0.516217  533.962653   \n",
              "\n",
              "      attr_index_norm  rest_index  rest_index_norm      lng       lat  \n",
              "0            4.166708   98.253896         6.846473  4.90569  52.41772  \n",
              "1           33.421209  837.280757        58.342928  4.90005  52.37432  \n",
              "2            3.985908   95.386955         6.646700  4.97512  52.36103  \n",
              "3           26.119108  875.033098        60.973565  4.89417  52.37663  \n",
              "4           29.272733  815.305740        56.811677  4.90051  52.37508  \n",
              "...               ...         ...              ...      ...       ...  \n",
              "1098         9.594573  225.304203        15.699521  4.85869  52.37677  \n",
              "1099         5.719989  134.775277         9.391335  4.83611  52.34910  \n",
              "1100        23.323524  625.947562        43.616927  4.88897  52.37798  \n",
              "1101        13.658524  336.589237        23.454022  4.90688  52.35794  \n",
              "1102        28.273677  807.492307        56.267226  4.89295  52.37575  \n",
              "\n",
              "[1103 rows x 20 columns]"
            ],
            "text/html": [
              "\n",
              "\n",
              "  <div id=\"df-283ad354-f666-43a5-a4c2-63eb9dddf26c\">\n",
              "    <div class=\"colab-df-container\">\n",
              "      <div>\n",
              "<style scoped>\n",
              "    .dataframe tbody tr th:only-of-type {\n",
              "        vertical-align: middle;\n",
              "    }\n",
              "\n",
              "    .dataframe tbody tr th {\n",
              "        vertical-align: top;\n",
              "    }\n",
              "\n",
              "    .dataframe thead th {\n",
              "        text-align: right;\n",
              "    }\n",
              "</style>\n",
              "<table border=\"1\" class=\"dataframe\">\n",
              "  <thead>\n",
              "    <tr style=\"text-align: right;\">\n",
              "      <th></th>\n",
              "      <th>Unnamed: 0</th>\n",
              "      <th>realSum</th>\n",
              "      <th>room_type</th>\n",
              "      <th>room_shared</th>\n",
              "      <th>room_private</th>\n",
              "      <th>person_capacity</th>\n",
              "      <th>host_is_superhost</th>\n",
              "      <th>multi</th>\n",
              "      <th>biz</th>\n",
              "      <th>cleanliness_rating</th>\n",
              "      <th>guest_satisfaction_overall</th>\n",
              "      <th>bedrooms</th>\n",
              "      <th>dist</th>\n",
              "      <th>metro_dist</th>\n",
              "      <th>attr_index</th>\n",
              "      <th>attr_index_norm</th>\n",
              "      <th>rest_index</th>\n",
              "      <th>rest_index_norm</th>\n",
              "      <th>lng</th>\n",
              "      <th>lat</th>\n",
              "    </tr>\n",
              "  </thead>\n",
              "  <tbody>\n",
              "    <tr>\n",
              "      <th>0</th>\n",
              "      <td>0</td>\n",
              "      <td>194.033698</td>\n",
              "      <td>Private room</td>\n",
              "      <td>False</td>\n",
              "      <td>True</td>\n",
              "      <td>2.0</td>\n",
              "      <td>False</td>\n",
              "      <td>1</td>\n",
              "      <td>0</td>\n",
              "      <td>10.0</td>\n",
              "      <td>93.0</td>\n",
              "      <td>1</td>\n",
              "      <td>5.022964</td>\n",
              "      <td>2.539380</td>\n",
              "      <td>78.690379</td>\n",
              "      <td>4.166708</td>\n",
              "      <td>98.253896</td>\n",
              "      <td>6.846473</td>\n",
              "      <td>4.90569</td>\n",
              "      <td>52.41772</td>\n",
              "    </tr>\n",
              "    <tr>\n",
              "      <th>1</th>\n",
              "      <td>1</td>\n",
              "      <td>344.245776</td>\n",
              "      <td>Private room</td>\n",
              "      <td>False</td>\n",
              "      <td>True</td>\n",
              "      <td>4.0</td>\n",
              "      <td>False</td>\n",
              "      <td>0</td>\n",
              "      <td>0</td>\n",
              "      <td>8.0</td>\n",
              "      <td>85.0</td>\n",
              "      <td>1</td>\n",
              "      <td>0.488389</td>\n",
              "      <td>0.239404</td>\n",
              "      <td>631.176378</td>\n",
              "      <td>33.421209</td>\n",
              "      <td>837.280757</td>\n",
              "      <td>58.342928</td>\n",
              "      <td>4.90005</td>\n",
              "      <td>52.37432</td>\n",
              "    </tr>\n",
              "    <tr>\n",
              "      <th>2</th>\n",
              "      <td>2</td>\n",
              "      <td>264.101422</td>\n",
              "      <td>Private room</td>\n",
              "      <td>False</td>\n",
              "      <td>True</td>\n",
              "      <td>2.0</td>\n",
              "      <td>False</td>\n",
              "      <td>0</td>\n",
              "      <td>1</td>\n",
              "      <td>9.0</td>\n",
              "      <td>87.0</td>\n",
              "      <td>1</td>\n",
              "      <td>5.748312</td>\n",
              "      <td>3.651621</td>\n",
              "      <td>75.275877</td>\n",
              "      <td>3.985908</td>\n",
              "      <td>95.386955</td>\n",
              "      <td>6.646700</td>\n",
              "      <td>4.97512</td>\n",
              "      <td>52.36103</td>\n",
              "    </tr>\n",
              "    <tr>\n",
              "      <th>3</th>\n",
              "      <td>3</td>\n",
              "      <td>433.529398</td>\n",
              "      <td>Private room</td>\n",
              "      <td>False</td>\n",
              "      <td>True</td>\n",
              "      <td>4.0</td>\n",
              "      <td>False</td>\n",
              "      <td>0</td>\n",
              "      <td>1</td>\n",
              "      <td>9.0</td>\n",
              "      <td>90.0</td>\n",
              "      <td>2</td>\n",
              "      <td>0.384862</td>\n",
              "      <td>0.439876</td>\n",
              "      <td>493.272534</td>\n",
              "      <td>26.119108</td>\n",
              "      <td>875.033098</td>\n",
              "      <td>60.973565</td>\n",
              "      <td>4.89417</td>\n",
              "      <td>52.37663</td>\n",
              "    </tr>\n",
              "    <tr>\n",
              "      <th>4</th>\n",
              "      <td>4</td>\n",
              "      <td>485.552926</td>\n",
              "      <td>Private room</td>\n",
              "      <td>False</td>\n",
              "      <td>True</td>\n",
              "      <td>2.0</td>\n",
              "      <td>True</td>\n",
              "      <td>0</td>\n",
              "      <td>0</td>\n",
              "      <td>10.0</td>\n",
              "      <td>98.0</td>\n",
              "      <td>1</td>\n",
              "      <td>0.544738</td>\n",
              "      <td>0.318693</td>\n",
              "      <td>552.830324</td>\n",
              "      <td>29.272733</td>\n",
              "      <td>815.305740</td>\n",
              "      <td>56.811677</td>\n",
              "      <td>4.90051</td>\n",
              "      <td>52.37508</td>\n",
              "    </tr>\n",
              "    <tr>\n",
              "      <th>...</th>\n",
              "      <td>...</td>\n",
              "      <td>...</td>\n",
              "      <td>...</td>\n",
              "      <td>...</td>\n",
              "      <td>...</td>\n",
              "      <td>...</td>\n",
              "      <td>...</td>\n",
              "      <td>...</td>\n",
              "      <td>...</td>\n",
              "      <td>...</td>\n",
              "      <td>...</td>\n",
              "      <td>...</td>\n",
              "      <td>...</td>\n",
              "      <td>...</td>\n",
              "      <td>...</td>\n",
              "      <td>...</td>\n",
              "      <td>...</td>\n",
              "      <td>...</td>\n",
              "      <td>...</td>\n",
              "      <td>...</td>\n",
              "    </tr>\n",
              "    <tr>\n",
              "      <th>1098</th>\n",
              "      <td>1098</td>\n",
              "      <td>2486.115342</td>\n",
              "      <td>Entire home/apt</td>\n",
              "      <td>False</td>\n",
              "      <td>False</td>\n",
              "      <td>2.0</td>\n",
              "      <td>False</td>\n",
              "      <td>0</td>\n",
              "      <td>0</td>\n",
              "      <td>10.0</td>\n",
              "      <td>100.0</td>\n",
              "      <td>1</td>\n",
              "      <td>2.375833</td>\n",
              "      <td>1.436054</td>\n",
              "      <td>181.198355</td>\n",
              "      <td>9.594573</td>\n",
              "      <td>225.304203</td>\n",
              "      <td>15.699521</td>\n",
              "      <td>4.85869</td>\n",
              "      <td>52.37677</td>\n",
              "    </tr>\n",
              "    <tr>\n",
              "      <th>1099</th>\n",
              "      <td>1099</td>\n",
              "      <td>233.637194</td>\n",
              "      <td>Private room</td>\n",
              "      <td>False</td>\n",
              "      <td>True</td>\n",
              "      <td>2.0</td>\n",
              "      <td>False</td>\n",
              "      <td>1</td>\n",
              "      <td>0</td>\n",
              "      <td>10.0</td>\n",
              "      <td>90.0</td>\n",
              "      <td>1</td>\n",
              "      <td>4.719736</td>\n",
              "      <td>0.322263</td>\n",
              "      <td>108.024880</td>\n",
              "      <td>5.719989</td>\n",
              "      <td>134.775277</td>\n",
              "      <td>9.391335</td>\n",
              "      <td>4.83611</td>\n",
              "      <td>52.34910</td>\n",
              "    </tr>\n",
              "    <tr>\n",
              "      <th>1100</th>\n",
              "      <td>1100</td>\n",
              "      <td>317.062311</td>\n",
              "      <td>Private room</td>\n",
              "      <td>False</td>\n",
              "      <td>True</td>\n",
              "      <td>2.0</td>\n",
              "      <td>False</td>\n",
              "      <td>1</td>\n",
              "      <td>0</td>\n",
              "      <td>10.0</td>\n",
              "      <td>92.0</td>\n",
              "      <td>1</td>\n",
              "      <td>0.598355</td>\n",
              "      <td>0.751993</td>\n",
              "      <td>440.476515</td>\n",
              "      <td>23.323524</td>\n",
              "      <td>625.947562</td>\n",
              "      <td>43.616927</td>\n",
              "      <td>4.88897</td>\n",
              "      <td>52.37798</td>\n",
              "    </tr>\n",
              "    <tr>\n",
              "      <th>1101</th>\n",
              "      <td>1101</td>\n",
              "      <td>1812.855904</td>\n",
              "      <td>Entire home/apt</td>\n",
              "      <td>False</td>\n",
              "      <td>False</td>\n",
              "      <td>4.0</td>\n",
              "      <td>False</td>\n",
              "      <td>0</td>\n",
              "      <td>0</td>\n",
              "      <td>8.0</td>\n",
              "      <td>84.0</td>\n",
              "      <td>5</td>\n",
              "      <td>1.943020</td>\n",
              "      <td>0.388532</td>\n",
              "      <td>257.948105</td>\n",
              "      <td>13.658524</td>\n",
              "      <td>336.589237</td>\n",
              "      <td>23.454022</td>\n",
              "      <td>4.90688</td>\n",
              "      <td>52.35794</td>\n",
              "    </tr>\n",
              "    <tr>\n",
              "      <th>1102</th>\n",
              "      <td>1102</td>\n",
              "      <td>258.008577</td>\n",
              "      <td>Shared room</td>\n",
              "      <td>True</td>\n",
              "      <td>False</td>\n",
              "      <td>2.0</td>\n",
              "      <td>False</td>\n",
              "      <td>0</td>\n",
              "      <td>0</td>\n",
              "      <td>8.0</td>\n",
              "      <td>90.0</td>\n",
              "      <td>1</td>\n",
              "      <td>0.280204</td>\n",
              "      <td>0.516217</td>\n",
              "      <td>533.962653</td>\n",
              "      <td>28.273677</td>\n",
              "      <td>807.492307</td>\n",
              "      <td>56.267226</td>\n",
              "      <td>4.89295</td>\n",
              "      <td>52.37575</td>\n",
              "    </tr>\n",
              "  </tbody>\n",
              "</table>\n",
              "<p>1103 rows × 20 columns</p>\n",
              "</div>\n",
              "      <button class=\"colab-df-convert\" onclick=\"convertToInteractive('df-283ad354-f666-43a5-a4c2-63eb9dddf26c')\"\n",
              "              title=\"Convert this dataframe to an interactive table.\"\n",
              "              style=\"display:none;\">\n",
              "\n",
              "  <svg xmlns=\"http://www.w3.org/2000/svg\" height=\"24px\"viewBox=\"0 0 24 24\"\n",
              "       width=\"24px\">\n",
              "    <path d=\"M0 0h24v24H0V0z\" fill=\"none\"/>\n",
              "    <path d=\"M18.56 5.44l.94 2.06.94-2.06 2.06-.94-2.06-.94-.94-2.06-.94 2.06-2.06.94zm-11 1L8.5 8.5l.94-2.06 2.06-.94-2.06-.94L8.5 2.5l-.94 2.06-2.06.94zm10 10l.94 2.06.94-2.06 2.06-.94-2.06-.94-.94-2.06-.94 2.06-2.06.94z\"/><path d=\"M17.41 7.96l-1.37-1.37c-.4-.4-.92-.59-1.43-.59-.52 0-1.04.2-1.43.59L10.3 9.45l-7.72 7.72c-.78.78-.78 2.05 0 2.83L4 21.41c.39.39.9.59 1.41.59.51 0 1.02-.2 1.41-.59l7.78-7.78 2.81-2.81c.8-.78.8-2.07 0-2.86zM5.41 20L4 18.59l7.72-7.72 1.47 1.35L5.41 20z\"/>\n",
              "  </svg>\n",
              "      </button>\n",
              "\n",
              "\n",
              "\n",
              "    <div id=\"df-1919be08-fe2f-4e62-a23c-8469a4c742fb\">\n",
              "      <button class=\"colab-df-quickchart\" onclick=\"quickchart('df-1919be08-fe2f-4e62-a23c-8469a4c742fb')\"\n",
              "              title=\"Suggest charts.\"\n",
              "              style=\"display:none;\">\n",
              "\n",
              "<svg xmlns=\"http://www.w3.org/2000/svg\" height=\"24px\"viewBox=\"0 0 24 24\"\n",
              "     width=\"24px\">\n",
              "    <g>\n",
              "        <path d=\"M19 3H5c-1.1 0-2 .9-2 2v14c0 1.1.9 2 2 2h14c1.1 0 2-.9 2-2V5c0-1.1-.9-2-2-2zM9 17H7v-7h2v7zm4 0h-2V7h2v10zm4 0h-2v-4h2v4z\"/>\n",
              "    </g>\n",
              "</svg>\n",
              "      </button>\n",
              "    </div>\n",
              "\n",
              "<style>\n",
              "  .colab-df-quickchart {\n",
              "    background-color: #E8F0FE;\n",
              "    border: none;\n",
              "    border-radius: 50%;\n",
              "    cursor: pointer;\n",
              "    display: none;\n",
              "    fill: #1967D2;\n",
              "    height: 32px;\n",
              "    padding: 0 0 0 0;\n",
              "    width: 32px;\n",
              "  }\n",
              "\n",
              "  .colab-df-quickchart:hover {\n",
              "    background-color: #E2EBFA;\n",
              "    box-shadow: 0px 1px 2px rgba(60, 64, 67, 0.3), 0px 1px 3px 1px rgba(60, 64, 67, 0.15);\n",
              "    fill: #174EA6;\n",
              "  }\n",
              "\n",
              "  [theme=dark] .colab-df-quickchart {\n",
              "    background-color: #3B4455;\n",
              "    fill: #D2E3FC;\n",
              "  }\n",
              "\n",
              "  [theme=dark] .colab-df-quickchart:hover {\n",
              "    background-color: #434B5C;\n",
              "    box-shadow: 0px 1px 3px 1px rgba(0, 0, 0, 0.15);\n",
              "    filter: drop-shadow(0px 1px 2px rgba(0, 0, 0, 0.3));\n",
              "    fill: #FFFFFF;\n",
              "  }\n",
              "</style>\n",
              "\n",
              "    <script>\n",
              "      async function quickchart(key) {\n",
              "        const containerElement = document.querySelector('#' + key);\n",
              "        const charts = await google.colab.kernel.invokeFunction(\n",
              "            'suggestCharts', [key], {});\n",
              "      }\n",
              "    </script>\n",
              "\n",
              "      <script>\n",
              "\n",
              "function displayQuickchartButton(domScope) {\n",
              "  let quickchartButtonEl =\n",
              "    domScope.querySelector('#df-1919be08-fe2f-4e62-a23c-8469a4c742fb button.colab-df-quickchart');\n",
              "  quickchartButtonEl.style.display =\n",
              "    google.colab.kernel.accessAllowed ? 'block' : 'none';\n",
              "}\n",
              "\n",
              "        displayQuickchartButton(document);\n",
              "      </script>\n",
              "      <style>\n",
              "    .colab-df-container {\n",
              "      display:flex;\n",
              "      flex-wrap:wrap;\n",
              "      gap: 12px;\n",
              "    }\n",
              "\n",
              "    .colab-df-convert {\n",
              "      background-color: #E8F0FE;\n",
              "      border: none;\n",
              "      border-radius: 50%;\n",
              "      cursor: pointer;\n",
              "      display: none;\n",
              "      fill: #1967D2;\n",
              "      height: 32px;\n",
              "      padding: 0 0 0 0;\n",
              "      width: 32px;\n",
              "    }\n",
              "\n",
              "    .colab-df-convert:hover {\n",
              "      background-color: #E2EBFA;\n",
              "      box-shadow: 0px 1px 2px rgba(60, 64, 67, 0.3), 0px 1px 3px 1px rgba(60, 64, 67, 0.15);\n",
              "      fill: #174EA6;\n",
              "    }\n",
              "\n",
              "    [theme=dark] .colab-df-convert {\n",
              "      background-color: #3B4455;\n",
              "      fill: #D2E3FC;\n",
              "    }\n",
              "\n",
              "    [theme=dark] .colab-df-convert:hover {\n",
              "      background-color: #434B5C;\n",
              "      box-shadow: 0px 1px 3px 1px rgba(0, 0, 0, 0.15);\n",
              "      filter: drop-shadow(0px 1px 2px rgba(0, 0, 0, 0.3));\n",
              "      fill: #FFFFFF;\n",
              "    }\n",
              "  </style>\n",
              "\n",
              "      <script>\n",
              "        const buttonEl =\n",
              "          document.querySelector('#df-283ad354-f666-43a5-a4c2-63eb9dddf26c button.colab-df-convert');\n",
              "        buttonEl.style.display =\n",
              "          google.colab.kernel.accessAllowed ? 'block' : 'none';\n",
              "\n",
              "        async function convertToInteractive(key) {\n",
              "          const element = document.querySelector('#df-283ad354-f666-43a5-a4c2-63eb9dddf26c');\n",
              "          const dataTable =\n",
              "            await google.colab.kernel.invokeFunction('convertToInteractive',\n",
              "                                                     [key], {});\n",
              "          if (!dataTable) return;\n",
              "\n",
              "          const docLinkHtml = 'Like what you see? Visit the ' +\n",
              "            '<a target=\"_blank\" href=https://colab.research.google.com/notebooks/data_table.ipynb>data table notebook</a>'\n",
              "            + ' to learn more about interactive tables.';\n",
              "          element.innerHTML = '';\n",
              "          dataTable['output_type'] = 'display_data';\n",
              "          await google.colab.output.renderOutput(dataTable, element);\n",
              "          const docLink = document.createElement('div');\n",
              "          docLink.innerHTML = docLinkHtml;\n",
              "          element.appendChild(docLink);\n",
              "        }\n",
              "      </script>\n",
              "    </div>\n",
              "  </div>\n"
            ]
          },
          "metadata": {},
          "execution_count": 8
        }
      ]
    },
    {
      "cell_type": "code",
      "source": [
        "#visualizando\n",
        "df.info()"
      ],
      "metadata": {
        "id": "ekFn5JoMXctW",
        "colab": {
          "base_uri": "https://localhost:8080/"
        },
        "outputId": "870a8470-37b5-4594-b71c-1f2efd966732"
      },
      "execution_count": 9,
      "outputs": [
        {
          "output_type": "stream",
          "name": "stdout",
          "text": [
            "<class 'pandas.core.frame.DataFrame'>\n",
            "RangeIndex: 1103 entries, 0 to 1102\n",
            "Data columns (total 20 columns):\n",
            " #   Column                      Non-Null Count  Dtype  \n",
            "---  ------                      --------------  -----  \n",
            " 0   Unnamed: 0                  1103 non-null   int64  \n",
            " 1   realSum                     1103 non-null   float64\n",
            " 2   room_type                   1103 non-null   object \n",
            " 3   room_shared                 1103 non-null   bool   \n",
            " 4   room_private                1103 non-null   bool   \n",
            " 5   person_capacity             1103 non-null   float64\n",
            " 6   host_is_superhost           1103 non-null   bool   \n",
            " 7   multi                       1103 non-null   int64  \n",
            " 8   biz                         1103 non-null   int64  \n",
            " 9   cleanliness_rating          1103 non-null   float64\n",
            " 10  guest_satisfaction_overall  1103 non-null   float64\n",
            " 11  bedrooms                    1103 non-null   int64  \n",
            " 12  dist                        1103 non-null   float64\n",
            " 13  metro_dist                  1103 non-null   float64\n",
            " 14  attr_index                  1103 non-null   float64\n",
            " 15  attr_index_norm             1103 non-null   float64\n",
            " 16  rest_index                  1103 non-null   float64\n",
            " 17  rest_index_norm             1103 non-null   float64\n",
            " 18  lng                         1103 non-null   float64\n",
            " 19  lat                         1103 non-null   float64\n",
            "dtypes: bool(3), float64(12), int64(4), object(1)\n",
            "memory usage: 149.8+ KB\n"
          ]
        }
      ]
    },
    {
      "cell_type": "code",
      "source": [
        "# Backup local do df\n",
        "dfback1 = df.copy()"
      ],
      "metadata": {
        "id": "quOUmLPIb9qj"
      },
      "execution_count": 10,
      "outputs": []
    },
    {
      "cell_type": "code",
      "source": [
        "df.rename(columns={'Unnamed: 0':'numeraçao','room_type':'tipo_quarto','superhost':'super_anfitriao','room_shared':'compartilhado','room_private':'quarto_privado','person_capacity':'capacidade','attr_index':'indice_de_atracao','rest_index':'indice_do_restaurante','bedrooms':'quartos','cleanliness_rating':'nota_limpeza','host_is_superhost':'superhost','guest_satisfaction_overall':'satisfacao','dist':'distancia_centro','metro_dist':'distancia_metro','realSum':'preco_total','lat':'latitude','lng':'longitude'}, inplace = True)"
      ],
      "metadata": {
        "id": "GA_-IPLhdo-2"
      },
      "execution_count": 11,
      "outputs": []
    },
    {
      "cell_type": "markdown",
      "source": [
        "## Limpeza de Dados ##\n",
        "Remover dados duplicados, corrigir erros de digitação, tratar dados inconsistentes etc."
      ],
      "metadata": {
        "id": "2OIPr02e1w5B"
      }
    },
    {
      "cell_type": "code",
      "source": [
        "#renomeando as colunas\n",
        "df.rename(columns={'Unnamed: 0':'numeraçao','room_type':'tipo_quarto','superhost':'super_anfitriao','room_shared':'compartilhado','room_private':'quarto_privado','person_capacity':'capacidade','attr_index':'indice_de_atracao','rest_index':'indice_do_restaurante','bedrooms':'quartos','cleanliness_rating':'nota_limpeza','host_is_superhost':'superhost','guest_satisfaction_overall':'satisfacao','dist':'distancia_centro','metro_dist':'distancia_metro','realSum':'preco_total','lat':'latitude','lng':'longitude'}, inplace = True)"
      ],
      "metadata": {
        "id": "ur3zJCX7PsG3"
      },
      "execution_count": 12,
      "outputs": []
    },
    {
      "cell_type": "code",
      "source": [
        "# conferindo\n",
        "df"
      ],
      "metadata": {
        "id": "Mmabs2F6Yd8J"
      },
      "execution_count": null,
      "outputs": []
    },
    {
      "cell_type": "code",
      "source": [
        "# verificando dados inconsistentes\n",
        "print(sorted(pd.unique(df['numeraçao'])))"
      ],
      "metadata": {
        "id": "1ViNf_IOZi2d"
      },
      "execution_count": null,
      "outputs": []
    },
    {
      "cell_type": "code",
      "source": [
        "#verificando dados repetidos\n",
        "df.numeraçao.is_unique"
      ],
      "metadata": {
        "id": "imopx0z-d7DI",
        "colab": {
          "base_uri": "https://localhost:8080/"
        },
        "outputId": "1600c60a-b24a-495b-ee6f-1e76a4ef8662"
      },
      "execution_count": 15,
      "outputs": [
        {
          "output_type": "execute_result",
          "data": {
            "text/plain": [
              "True"
            ]
          },
          "metadata": {},
          "execution_count": 15
        }
      ]
    },
    {
      "cell_type": "code",
      "source": [
        "#verificando as categorias dos tipos de quarto\n",
        "print(sorted(pd.unique(df['tipo_quarto'])))"
      ],
      "metadata": {
        "id": "CeOAPWtJd-jT",
        "colab": {
          "base_uri": "https://localhost:8080/"
        },
        "outputId": "c673685b-2338-46a3-877e-b2bc526a14c4"
      },
      "execution_count": 16,
      "outputs": [
        {
          "output_type": "stream",
          "name": "stdout",
          "text": [
            "['Entire home/apt', 'Private room', 'Shared room']\n"
          ]
        }
      ]
    },
    {
      "cell_type": "code",
      "source": [
        "#traduzindo os tipos de quarto\n",
        "df.loc[df.tipo_quarto == 'Private room',['tipo_quarto']] = 'QUARTO PRIVADO'\n",
        "df.loc[df.tipo_quarto == 'Entire home/apt',['tipo_quarto']] = 'APT/CASA INTEIRA'\n",
        "df.loc[df.tipo_quarto == 'Shared room',['tipo_quarto']] = 'QUARTO COMPARTILHADO'\n",
        "\n",
        "#conferindo\n",
        "print(sorted(pd.unique(df['tipo_quarto'])))"
      ],
      "metadata": {
        "id": "th9fbrqdfdtd",
        "colab": {
          "base_uri": "https://localhost:8080/"
        },
        "outputId": "3b5fc17b-7a0e-46bb-931f-a39d696ab717"
      },
      "execution_count": 17,
      "outputs": [
        {
          "output_type": "stream",
          "name": "stdout",
          "text": [
            "['APT/CASA INTEIRA', 'QUARTO COMPARTILHADO', 'QUARTO PRIVADO']\n"
          ]
        }
      ]
    },
    {
      "cell_type": "code",
      "source": [
        "#Visualizando as colunas\n",
        "df"
      ],
      "metadata": {
        "id": "byi2vYShm6eJ",
        "colab": {
          "base_uri": "https://localhost:8080/",
          "height": 661
        },
        "outputId": "46fe8783-c21f-42cc-f99c-5fc6e122e09f"
      },
      "execution_count": 18,
      "outputs": [
        {
          "output_type": "execute_result",
          "data": {
            "text/plain": [
              "      numeraçao  preco_total           tipo_quarto  compartilhado  \\\n",
              "0             0   194.033698        QUARTO PRIVADO          False   \n",
              "1             1   344.245776        QUARTO PRIVADO          False   \n",
              "2             2   264.101422        QUARTO PRIVADO          False   \n",
              "3             3   433.529398        QUARTO PRIVADO          False   \n",
              "4             4   485.552926        QUARTO PRIVADO          False   \n",
              "...         ...          ...                   ...            ...   \n",
              "1098       1098  2486.115342      APT/CASA INTEIRA          False   \n",
              "1099       1099   233.637194        QUARTO PRIVADO          False   \n",
              "1100       1100   317.062311        QUARTO PRIVADO          False   \n",
              "1101       1101  1812.855904      APT/CASA INTEIRA          False   \n",
              "1102       1102   258.008577  QUARTO COMPARTILHADO           True   \n",
              "\n",
              "      quarto_privado  capacidade  super_anfitriao  multi  biz  nota_limpeza  \\\n",
              "0               True         2.0            False      1    0          10.0   \n",
              "1               True         4.0            False      0    0           8.0   \n",
              "2               True         2.0            False      0    1           9.0   \n",
              "3               True         4.0            False      0    1           9.0   \n",
              "4               True         2.0             True      0    0          10.0   \n",
              "...              ...         ...              ...    ...  ...           ...   \n",
              "1098           False         2.0            False      0    0          10.0   \n",
              "1099            True         2.0            False      1    0          10.0   \n",
              "1100            True         2.0            False      1    0          10.0   \n",
              "1101           False         4.0            False      0    0           8.0   \n",
              "1102           False         2.0            False      0    0           8.0   \n",
              "\n",
              "      satisfacao  quartos  distancia_centro  distancia_metro  \\\n",
              "0           93.0        1          5.022964         2.539380   \n",
              "1           85.0        1          0.488389         0.239404   \n",
              "2           87.0        1          5.748312         3.651621   \n",
              "3           90.0        2          0.384862         0.439876   \n",
              "4           98.0        1          0.544738         0.318693   \n",
              "...          ...      ...               ...              ...   \n",
              "1098       100.0        1          2.375833         1.436054   \n",
              "1099        90.0        1          4.719736         0.322263   \n",
              "1100        92.0        1          0.598355         0.751993   \n",
              "1101        84.0        5          1.943020         0.388532   \n",
              "1102        90.0        1          0.280204         0.516217   \n",
              "\n",
              "      indice_de_atracao  attr_index_norm  indice_do_restaurante  \\\n",
              "0             78.690379         4.166708              98.253896   \n",
              "1            631.176378        33.421209             837.280757   \n",
              "2             75.275877         3.985908              95.386955   \n",
              "3            493.272534        26.119108             875.033098   \n",
              "4            552.830324        29.272733             815.305740   \n",
              "...                 ...              ...                    ...   \n",
              "1098         181.198355         9.594573             225.304203   \n",
              "1099         108.024880         5.719989             134.775277   \n",
              "1100         440.476515        23.323524             625.947562   \n",
              "1101         257.948105        13.658524             336.589237   \n",
              "1102         533.962653        28.273677             807.492307   \n",
              "\n",
              "      rest_index_norm  longitude  latitude  \n",
              "0            6.846473    4.90569  52.41772  \n",
              "1           58.342928    4.90005  52.37432  \n",
              "2            6.646700    4.97512  52.36103  \n",
              "3           60.973565    4.89417  52.37663  \n",
              "4           56.811677    4.90051  52.37508  \n",
              "...               ...        ...       ...  \n",
              "1098        15.699521    4.85869  52.37677  \n",
              "1099         9.391335    4.83611  52.34910  \n",
              "1100        43.616927    4.88897  52.37798  \n",
              "1101        23.454022    4.90688  52.35794  \n",
              "1102        56.267226    4.89295  52.37575  \n",
              "\n",
              "[1103 rows x 20 columns]"
            ],
            "text/html": [
              "\n",
              "\n",
              "  <div id=\"df-919b1f9e-1390-4752-8cfe-a87e35c78e4f\">\n",
              "    <div class=\"colab-df-container\">\n",
              "      <div>\n",
              "<style scoped>\n",
              "    .dataframe tbody tr th:only-of-type {\n",
              "        vertical-align: middle;\n",
              "    }\n",
              "\n",
              "    .dataframe tbody tr th {\n",
              "        vertical-align: top;\n",
              "    }\n",
              "\n",
              "    .dataframe thead th {\n",
              "        text-align: right;\n",
              "    }\n",
              "</style>\n",
              "<table border=\"1\" class=\"dataframe\">\n",
              "  <thead>\n",
              "    <tr style=\"text-align: right;\">\n",
              "      <th></th>\n",
              "      <th>numeraçao</th>\n",
              "      <th>preco_total</th>\n",
              "      <th>tipo_quarto</th>\n",
              "      <th>compartilhado</th>\n",
              "      <th>quarto_privado</th>\n",
              "      <th>capacidade</th>\n",
              "      <th>super_anfitriao</th>\n",
              "      <th>multi</th>\n",
              "      <th>biz</th>\n",
              "      <th>nota_limpeza</th>\n",
              "      <th>satisfacao</th>\n",
              "      <th>quartos</th>\n",
              "      <th>distancia_centro</th>\n",
              "      <th>distancia_metro</th>\n",
              "      <th>indice_de_atracao</th>\n",
              "      <th>attr_index_norm</th>\n",
              "      <th>indice_do_restaurante</th>\n",
              "      <th>rest_index_norm</th>\n",
              "      <th>longitude</th>\n",
              "      <th>latitude</th>\n",
              "    </tr>\n",
              "  </thead>\n",
              "  <tbody>\n",
              "    <tr>\n",
              "      <th>0</th>\n",
              "      <td>0</td>\n",
              "      <td>194.033698</td>\n",
              "      <td>QUARTO PRIVADO</td>\n",
              "      <td>False</td>\n",
              "      <td>True</td>\n",
              "      <td>2.0</td>\n",
              "      <td>False</td>\n",
              "      <td>1</td>\n",
              "      <td>0</td>\n",
              "      <td>10.0</td>\n",
              "      <td>93.0</td>\n",
              "      <td>1</td>\n",
              "      <td>5.022964</td>\n",
              "      <td>2.539380</td>\n",
              "      <td>78.690379</td>\n",
              "      <td>4.166708</td>\n",
              "      <td>98.253896</td>\n",
              "      <td>6.846473</td>\n",
              "      <td>4.90569</td>\n",
              "      <td>52.41772</td>\n",
              "    </tr>\n",
              "    <tr>\n",
              "      <th>1</th>\n",
              "      <td>1</td>\n",
              "      <td>344.245776</td>\n",
              "      <td>QUARTO PRIVADO</td>\n",
              "      <td>False</td>\n",
              "      <td>True</td>\n",
              "      <td>4.0</td>\n",
              "      <td>False</td>\n",
              "      <td>0</td>\n",
              "      <td>0</td>\n",
              "      <td>8.0</td>\n",
              "      <td>85.0</td>\n",
              "      <td>1</td>\n",
              "      <td>0.488389</td>\n",
              "      <td>0.239404</td>\n",
              "      <td>631.176378</td>\n",
              "      <td>33.421209</td>\n",
              "      <td>837.280757</td>\n",
              "      <td>58.342928</td>\n",
              "      <td>4.90005</td>\n",
              "      <td>52.37432</td>\n",
              "    </tr>\n",
              "    <tr>\n",
              "      <th>2</th>\n",
              "      <td>2</td>\n",
              "      <td>264.101422</td>\n",
              "      <td>QUARTO PRIVADO</td>\n",
              "      <td>False</td>\n",
              "      <td>True</td>\n",
              "      <td>2.0</td>\n",
              "      <td>False</td>\n",
              "      <td>0</td>\n",
              "      <td>1</td>\n",
              "      <td>9.0</td>\n",
              "      <td>87.0</td>\n",
              "      <td>1</td>\n",
              "      <td>5.748312</td>\n",
              "      <td>3.651621</td>\n",
              "      <td>75.275877</td>\n",
              "      <td>3.985908</td>\n",
              "      <td>95.386955</td>\n",
              "      <td>6.646700</td>\n",
              "      <td>4.97512</td>\n",
              "      <td>52.36103</td>\n",
              "    </tr>\n",
              "    <tr>\n",
              "      <th>3</th>\n",
              "      <td>3</td>\n",
              "      <td>433.529398</td>\n",
              "      <td>QUARTO PRIVADO</td>\n",
              "      <td>False</td>\n",
              "      <td>True</td>\n",
              "      <td>4.0</td>\n",
              "      <td>False</td>\n",
              "      <td>0</td>\n",
              "      <td>1</td>\n",
              "      <td>9.0</td>\n",
              "      <td>90.0</td>\n",
              "      <td>2</td>\n",
              "      <td>0.384862</td>\n",
              "      <td>0.439876</td>\n",
              "      <td>493.272534</td>\n",
              "      <td>26.119108</td>\n",
              "      <td>875.033098</td>\n",
              "      <td>60.973565</td>\n",
              "      <td>4.89417</td>\n",
              "      <td>52.37663</td>\n",
              "    </tr>\n",
              "    <tr>\n",
              "      <th>4</th>\n",
              "      <td>4</td>\n",
              "      <td>485.552926</td>\n",
              "      <td>QUARTO PRIVADO</td>\n",
              "      <td>False</td>\n",
              "      <td>True</td>\n",
              "      <td>2.0</td>\n",
              "      <td>True</td>\n",
              "      <td>0</td>\n",
              "      <td>0</td>\n",
              "      <td>10.0</td>\n",
              "      <td>98.0</td>\n",
              "      <td>1</td>\n",
              "      <td>0.544738</td>\n",
              "      <td>0.318693</td>\n",
              "      <td>552.830324</td>\n",
              "      <td>29.272733</td>\n",
              "      <td>815.305740</td>\n",
              "      <td>56.811677</td>\n",
              "      <td>4.90051</td>\n",
              "      <td>52.37508</td>\n",
              "    </tr>\n",
              "    <tr>\n",
              "      <th>...</th>\n",
              "      <td>...</td>\n",
              "      <td>...</td>\n",
              "      <td>...</td>\n",
              "      <td>...</td>\n",
              "      <td>...</td>\n",
              "      <td>...</td>\n",
              "      <td>...</td>\n",
              "      <td>...</td>\n",
              "      <td>...</td>\n",
              "      <td>...</td>\n",
              "      <td>...</td>\n",
              "      <td>...</td>\n",
              "      <td>...</td>\n",
              "      <td>...</td>\n",
              "      <td>...</td>\n",
              "      <td>...</td>\n",
              "      <td>...</td>\n",
              "      <td>...</td>\n",
              "      <td>...</td>\n",
              "      <td>...</td>\n",
              "    </tr>\n",
              "    <tr>\n",
              "      <th>1098</th>\n",
              "      <td>1098</td>\n",
              "      <td>2486.115342</td>\n",
              "      <td>APT/CASA INTEIRA</td>\n",
              "      <td>False</td>\n",
              "      <td>False</td>\n",
              "      <td>2.0</td>\n",
              "      <td>False</td>\n",
              "      <td>0</td>\n",
              "      <td>0</td>\n",
              "      <td>10.0</td>\n",
              "      <td>100.0</td>\n",
              "      <td>1</td>\n",
              "      <td>2.375833</td>\n",
              "      <td>1.436054</td>\n",
              "      <td>181.198355</td>\n",
              "      <td>9.594573</td>\n",
              "      <td>225.304203</td>\n",
              "      <td>15.699521</td>\n",
              "      <td>4.85869</td>\n",
              "      <td>52.37677</td>\n",
              "    </tr>\n",
              "    <tr>\n",
              "      <th>1099</th>\n",
              "      <td>1099</td>\n",
              "      <td>233.637194</td>\n",
              "      <td>QUARTO PRIVADO</td>\n",
              "      <td>False</td>\n",
              "      <td>True</td>\n",
              "      <td>2.0</td>\n",
              "      <td>False</td>\n",
              "      <td>1</td>\n",
              "      <td>0</td>\n",
              "      <td>10.0</td>\n",
              "      <td>90.0</td>\n",
              "      <td>1</td>\n",
              "      <td>4.719736</td>\n",
              "      <td>0.322263</td>\n",
              "      <td>108.024880</td>\n",
              "      <td>5.719989</td>\n",
              "      <td>134.775277</td>\n",
              "      <td>9.391335</td>\n",
              "      <td>4.83611</td>\n",
              "      <td>52.34910</td>\n",
              "    </tr>\n",
              "    <tr>\n",
              "      <th>1100</th>\n",
              "      <td>1100</td>\n",
              "      <td>317.062311</td>\n",
              "      <td>QUARTO PRIVADO</td>\n",
              "      <td>False</td>\n",
              "      <td>True</td>\n",
              "      <td>2.0</td>\n",
              "      <td>False</td>\n",
              "      <td>1</td>\n",
              "      <td>0</td>\n",
              "      <td>10.0</td>\n",
              "      <td>92.0</td>\n",
              "      <td>1</td>\n",
              "      <td>0.598355</td>\n",
              "      <td>0.751993</td>\n",
              "      <td>440.476515</td>\n",
              "      <td>23.323524</td>\n",
              "      <td>625.947562</td>\n",
              "      <td>43.616927</td>\n",
              "      <td>4.88897</td>\n",
              "      <td>52.37798</td>\n",
              "    </tr>\n",
              "    <tr>\n",
              "      <th>1101</th>\n",
              "      <td>1101</td>\n",
              "      <td>1812.855904</td>\n",
              "      <td>APT/CASA INTEIRA</td>\n",
              "      <td>False</td>\n",
              "      <td>False</td>\n",
              "      <td>4.0</td>\n",
              "      <td>False</td>\n",
              "      <td>0</td>\n",
              "      <td>0</td>\n",
              "      <td>8.0</td>\n",
              "      <td>84.0</td>\n",
              "      <td>5</td>\n",
              "      <td>1.943020</td>\n",
              "      <td>0.388532</td>\n",
              "      <td>257.948105</td>\n",
              "      <td>13.658524</td>\n",
              "      <td>336.589237</td>\n",
              "      <td>23.454022</td>\n",
              "      <td>4.90688</td>\n",
              "      <td>52.35794</td>\n",
              "    </tr>\n",
              "    <tr>\n",
              "      <th>1102</th>\n",
              "      <td>1102</td>\n",
              "      <td>258.008577</td>\n",
              "      <td>QUARTO COMPARTILHADO</td>\n",
              "      <td>True</td>\n",
              "      <td>False</td>\n",
              "      <td>2.0</td>\n",
              "      <td>False</td>\n",
              "      <td>0</td>\n",
              "      <td>0</td>\n",
              "      <td>8.0</td>\n",
              "      <td>90.0</td>\n",
              "      <td>1</td>\n",
              "      <td>0.280204</td>\n",
              "      <td>0.516217</td>\n",
              "      <td>533.962653</td>\n",
              "      <td>28.273677</td>\n",
              "      <td>807.492307</td>\n",
              "      <td>56.267226</td>\n",
              "      <td>4.89295</td>\n",
              "      <td>52.37575</td>\n",
              "    </tr>\n",
              "  </tbody>\n",
              "</table>\n",
              "<p>1103 rows × 20 columns</p>\n",
              "</div>\n",
              "      <button class=\"colab-df-convert\" onclick=\"convertToInteractive('df-919b1f9e-1390-4752-8cfe-a87e35c78e4f')\"\n",
              "              title=\"Convert this dataframe to an interactive table.\"\n",
              "              style=\"display:none;\">\n",
              "\n",
              "  <svg xmlns=\"http://www.w3.org/2000/svg\" height=\"24px\"viewBox=\"0 0 24 24\"\n",
              "       width=\"24px\">\n",
              "    <path d=\"M0 0h24v24H0V0z\" fill=\"none\"/>\n",
              "    <path d=\"M18.56 5.44l.94 2.06.94-2.06 2.06-.94-2.06-.94-.94-2.06-.94 2.06-2.06.94zm-11 1L8.5 8.5l.94-2.06 2.06-.94-2.06-.94L8.5 2.5l-.94 2.06-2.06.94zm10 10l.94 2.06.94-2.06 2.06-.94-2.06-.94-.94-2.06-.94 2.06-2.06.94z\"/><path d=\"M17.41 7.96l-1.37-1.37c-.4-.4-.92-.59-1.43-.59-.52 0-1.04.2-1.43.59L10.3 9.45l-7.72 7.72c-.78.78-.78 2.05 0 2.83L4 21.41c.39.39.9.59 1.41.59.51 0 1.02-.2 1.41-.59l7.78-7.78 2.81-2.81c.8-.78.8-2.07 0-2.86zM5.41 20L4 18.59l7.72-7.72 1.47 1.35L5.41 20z\"/>\n",
              "  </svg>\n",
              "      </button>\n",
              "\n",
              "\n",
              "\n",
              "    <div id=\"df-5790da1c-3070-45a4-8367-a556fa089121\">\n",
              "      <button class=\"colab-df-quickchart\" onclick=\"quickchart('df-5790da1c-3070-45a4-8367-a556fa089121')\"\n",
              "              title=\"Suggest charts.\"\n",
              "              style=\"display:none;\">\n",
              "\n",
              "<svg xmlns=\"http://www.w3.org/2000/svg\" height=\"24px\"viewBox=\"0 0 24 24\"\n",
              "     width=\"24px\">\n",
              "    <g>\n",
              "        <path d=\"M19 3H5c-1.1 0-2 .9-2 2v14c0 1.1.9 2 2 2h14c1.1 0 2-.9 2-2V5c0-1.1-.9-2-2-2zM9 17H7v-7h2v7zm4 0h-2V7h2v10zm4 0h-2v-4h2v4z\"/>\n",
              "    </g>\n",
              "</svg>\n",
              "      </button>\n",
              "    </div>\n",
              "\n",
              "<style>\n",
              "  .colab-df-quickchart {\n",
              "    background-color: #E8F0FE;\n",
              "    border: none;\n",
              "    border-radius: 50%;\n",
              "    cursor: pointer;\n",
              "    display: none;\n",
              "    fill: #1967D2;\n",
              "    height: 32px;\n",
              "    padding: 0 0 0 0;\n",
              "    width: 32px;\n",
              "  }\n",
              "\n",
              "  .colab-df-quickchart:hover {\n",
              "    background-color: #E2EBFA;\n",
              "    box-shadow: 0px 1px 2px rgba(60, 64, 67, 0.3), 0px 1px 3px 1px rgba(60, 64, 67, 0.15);\n",
              "    fill: #174EA6;\n",
              "  }\n",
              "\n",
              "  [theme=dark] .colab-df-quickchart {\n",
              "    background-color: #3B4455;\n",
              "    fill: #D2E3FC;\n",
              "  }\n",
              "\n",
              "  [theme=dark] .colab-df-quickchart:hover {\n",
              "    background-color: #434B5C;\n",
              "    box-shadow: 0px 1px 3px 1px rgba(0, 0, 0, 0.15);\n",
              "    filter: drop-shadow(0px 1px 2px rgba(0, 0, 0, 0.3));\n",
              "    fill: #FFFFFF;\n",
              "  }\n",
              "</style>\n",
              "\n",
              "    <script>\n",
              "      async function quickchart(key) {\n",
              "        const containerElement = document.querySelector('#' + key);\n",
              "        const charts = await google.colab.kernel.invokeFunction(\n",
              "            'suggestCharts', [key], {});\n",
              "      }\n",
              "    </script>\n",
              "\n",
              "      <script>\n",
              "\n",
              "function displayQuickchartButton(domScope) {\n",
              "  let quickchartButtonEl =\n",
              "    domScope.querySelector('#df-5790da1c-3070-45a4-8367-a556fa089121 button.colab-df-quickchart');\n",
              "  quickchartButtonEl.style.display =\n",
              "    google.colab.kernel.accessAllowed ? 'block' : 'none';\n",
              "}\n",
              "\n",
              "        displayQuickchartButton(document);\n",
              "      </script>\n",
              "      <style>\n",
              "    .colab-df-container {\n",
              "      display:flex;\n",
              "      flex-wrap:wrap;\n",
              "      gap: 12px;\n",
              "    }\n",
              "\n",
              "    .colab-df-convert {\n",
              "      background-color: #E8F0FE;\n",
              "      border: none;\n",
              "      border-radius: 50%;\n",
              "      cursor: pointer;\n",
              "      display: none;\n",
              "      fill: #1967D2;\n",
              "      height: 32px;\n",
              "      padding: 0 0 0 0;\n",
              "      width: 32px;\n",
              "    }\n",
              "\n",
              "    .colab-df-convert:hover {\n",
              "      background-color: #E2EBFA;\n",
              "      box-shadow: 0px 1px 2px rgba(60, 64, 67, 0.3), 0px 1px 3px 1px rgba(60, 64, 67, 0.15);\n",
              "      fill: #174EA6;\n",
              "    }\n",
              "\n",
              "    [theme=dark] .colab-df-convert {\n",
              "      background-color: #3B4455;\n",
              "      fill: #D2E3FC;\n",
              "    }\n",
              "\n",
              "    [theme=dark] .colab-df-convert:hover {\n",
              "      background-color: #434B5C;\n",
              "      box-shadow: 0px 1px 3px 1px rgba(0, 0, 0, 0.15);\n",
              "      filter: drop-shadow(0px 1px 2px rgba(0, 0, 0, 0.3));\n",
              "      fill: #FFFFFF;\n",
              "    }\n",
              "  </style>\n",
              "\n",
              "      <script>\n",
              "        const buttonEl =\n",
              "          document.querySelector('#df-919b1f9e-1390-4752-8cfe-a87e35c78e4f button.colab-df-convert');\n",
              "        buttonEl.style.display =\n",
              "          google.colab.kernel.accessAllowed ? 'block' : 'none';\n",
              "\n",
              "        async function convertToInteractive(key) {\n",
              "          const element = document.querySelector('#df-919b1f9e-1390-4752-8cfe-a87e35c78e4f');\n",
              "          const dataTable =\n",
              "            await google.colab.kernel.invokeFunction('convertToInteractive',\n",
              "                                                     [key], {});\n",
              "          if (!dataTable) return;\n",
              "\n",
              "          const docLinkHtml = 'Like what you see? Visit the ' +\n",
              "            '<a target=\"_blank\" href=https://colab.research.google.com/notebooks/data_table.ipynb>data table notebook</a>'\n",
              "            + ' to learn more about interactive tables.';\n",
              "          element.innerHTML = '';\n",
              "          dataTable['output_type'] = 'display_data';\n",
              "          await google.colab.output.renderOutput(dataTable, element);\n",
              "          const docLink = document.createElement('div');\n",
              "          docLink.innerHTML = docLinkHtml;\n",
              "          element.appendChild(docLink);\n",
              "        }\n",
              "      </script>\n",
              "    </div>\n",
              "  </div>\n"
            ]
          },
          "metadata": {},
          "execution_count": 18
        }
      ]
    },
    {
      "cell_type": "code",
      "source": [
        "# Retirada de colunas com problemas e/ou não utilizadas na analise\n",
        "df.drop(['compartilhado','quarto_privado','numeraçao','rest_index_norm','indice_do_restaurante','attr_index_norm','indice_de_atracao','latitude','longitude'],axis=1, inplace=True)"
      ],
      "metadata": {
        "id": "lPPMKAnLnt--"
      },
      "execution_count": 19,
      "outputs": []
    },
    {
      "cell_type": "code",
      "source": [
        "#lembrando as colunas\n",
        "df"
      ],
      "metadata": {
        "id": "xwhEKqxIowAS"
      },
      "execution_count": null,
      "outputs": []
    },
    {
      "cell_type": "code",
      "source": [
        "# verificando os dados das colunas\n",
        "print(sorted(pd.unique(df['super_anfitriao'])))"
      ],
      "metadata": {
        "id": "F4pVpbcroyBO",
        "colab": {
          "base_uri": "https://localhost:8080/"
        },
        "outputId": "083872c6-87db-4171-dabc-f1b1e9b0f474"
      },
      "execution_count": 21,
      "outputs": [
        {
          "output_type": "stream",
          "name": "stdout",
          "text": [
            "[False, True]\n"
          ]
        }
      ]
    },
    {
      "cell_type": "code",
      "source": [
        "#alterando o nome dos linhas\n",
        "df.loc[df.super_anfitriao == False,['super_anfitriao']] = 'NAO'\n",
        "df.loc[df.super_anfitriao == True, ['super_anfitriao']] = 'SIM'\n"
      ],
      "metadata": {
        "id": "nUW5JmjisN5U"
      },
      "execution_count": 22,
      "outputs": []
    },
    {
      "cell_type": "code",
      "source": [
        "# conferindo\n",
        "print(sorted(pd.unique(df['super_anfitriao'])))"
      ],
      "metadata": {
        "id": "eTA01ysntwXP",
        "colab": {
          "base_uri": "https://localhost:8080/"
        },
        "outputId": "acb1558b-61be-4aaf-d28d-61a40df39d37"
      },
      "execution_count": 23,
      "outputs": [
        {
          "output_type": "stream",
          "name": "stdout",
          "text": [
            "['NAO', 'SIM']\n"
          ]
        }
      ]
    },
    {
      "cell_type": "code",
      "source": [
        "#conferindo se tem colunas com dados nulos\n",
        "df.isnull().sum()"
      ],
      "metadata": {
        "id": "a1zQN1c3rjEB",
        "colab": {
          "base_uri": "https://localhost:8080/"
        },
        "outputId": "d6800171-e642-4082-c00c-1ac6ac37d7cd"
      },
      "execution_count": 24,
      "outputs": [
        {
          "output_type": "execute_result",
          "data": {
            "text/plain": [
              "preco_total         0\n",
              "tipo_quarto         0\n",
              "capacidade          0\n",
              "super_anfitriao     0\n",
              "multi               0\n",
              "biz                 0\n",
              "nota_limpeza        0\n",
              "satisfacao          0\n",
              "quartos             0\n",
              "distancia_centro    0\n",
              "distancia_metro     0\n",
              "dtype: int64"
            ]
          },
          "metadata": {},
          "execution_count": 24
        }
      ]
    },
    {
      "cell_type": "code",
      "source": [
        "#teste de arredondamento\n",
        "round(df['distancia_centro'], 2)"
      ],
      "metadata": {
        "id": "FGy3VEO0r0BI",
        "colab": {
          "base_uri": "https://localhost:8080/"
        },
        "outputId": "bbe55a1a-40f1-4a62-e62f-523a7831b298"
      },
      "execution_count": 25,
      "outputs": [
        {
          "output_type": "execute_result",
          "data": {
            "text/plain": [
              "0       5.02\n",
              "1       0.49\n",
              "2       5.75\n",
              "3       0.38\n",
              "4       0.54\n",
              "        ... \n",
              "1098    2.38\n",
              "1099    4.72\n",
              "1100    0.60\n",
              "1101    1.94\n",
              "1102    0.28\n",
              "Name: distancia_centro, Length: 1103, dtype: float64"
            ]
          },
          "metadata": {},
          "execution_count": 25
        }
      ]
    },
    {
      "cell_type": "code",
      "source": [
        "#arredondamentos de algumas colunas\n",
        "df['preco_total'] = round(df['preco_total'], 2)\n",
        "df['distancia_centro'] = round(df['distancia_centro'], 3)\n",
        "df['distancia_metro'] = round(df['distancia_metro'], 3)"
      ],
      "metadata": {
        "id": "b3TJpWHWKd9i"
      },
      "execution_count": 26,
      "outputs": []
    },
    {
      "cell_type": "code",
      "source": [
        "#conferindo\n",
        "df"
      ],
      "metadata": {
        "id": "mK21dUaVLUJA",
        "colab": {
          "base_uri": "https://localhost:8080/",
          "height": 423
        },
        "outputId": "91fb27f8-7364-46b5-e8ee-f42f0a110439"
      },
      "execution_count": 27,
      "outputs": [
        {
          "output_type": "execute_result",
          "data": {
            "text/plain": [
              "      preco_total           tipo_quarto  capacidade super_anfitriao  multi  \\\n",
              "0          194.03        QUARTO PRIVADO         2.0             NAO      1   \n",
              "1          344.25        QUARTO PRIVADO         4.0             NAO      0   \n",
              "2          264.10        QUARTO PRIVADO         2.0             NAO      0   \n",
              "3          433.53        QUARTO PRIVADO         4.0             NAO      0   \n",
              "4          485.55        QUARTO PRIVADO         2.0             SIM      0   \n",
              "...           ...                   ...         ...             ...    ...   \n",
              "1098      2486.12      APT/CASA INTEIRA         2.0             NAO      0   \n",
              "1099       233.64        QUARTO PRIVADO         2.0             NAO      1   \n",
              "1100       317.06        QUARTO PRIVADO         2.0             NAO      1   \n",
              "1101      1812.86      APT/CASA INTEIRA         4.0             NAO      0   \n",
              "1102       258.01  QUARTO COMPARTILHADO         2.0             NAO      0   \n",
              "\n",
              "      biz  nota_limpeza  satisfacao  quartos  distancia_centro  \\\n",
              "0       0          10.0        93.0        1             5.023   \n",
              "1       0           8.0        85.0        1             0.488   \n",
              "2       1           9.0        87.0        1             5.748   \n",
              "3       1           9.0        90.0        2             0.385   \n",
              "4       0          10.0        98.0        1             0.545   \n",
              "...   ...           ...         ...      ...               ...   \n",
              "1098    0          10.0       100.0        1             2.376   \n",
              "1099    0          10.0        90.0        1             4.720   \n",
              "1100    0          10.0        92.0        1             0.598   \n",
              "1101    0           8.0        84.0        5             1.943   \n",
              "1102    0           8.0        90.0        1             0.280   \n",
              "\n",
              "      distancia_metro  \n",
              "0               2.539  \n",
              "1               0.239  \n",
              "2               3.652  \n",
              "3               0.440  \n",
              "4               0.319  \n",
              "...               ...  \n",
              "1098            1.436  \n",
              "1099            0.322  \n",
              "1100            0.752  \n",
              "1101            0.389  \n",
              "1102            0.516  \n",
              "\n",
              "[1103 rows x 11 columns]"
            ],
            "text/html": [
              "\n",
              "\n",
              "  <div id=\"df-a55de8cb-f9f5-4cd2-9f67-d91104a821f4\">\n",
              "    <div class=\"colab-df-container\">\n",
              "      <div>\n",
              "<style scoped>\n",
              "    .dataframe tbody tr th:only-of-type {\n",
              "        vertical-align: middle;\n",
              "    }\n",
              "\n",
              "    .dataframe tbody tr th {\n",
              "        vertical-align: top;\n",
              "    }\n",
              "\n",
              "    .dataframe thead th {\n",
              "        text-align: right;\n",
              "    }\n",
              "</style>\n",
              "<table border=\"1\" class=\"dataframe\">\n",
              "  <thead>\n",
              "    <tr style=\"text-align: right;\">\n",
              "      <th></th>\n",
              "      <th>preco_total</th>\n",
              "      <th>tipo_quarto</th>\n",
              "      <th>capacidade</th>\n",
              "      <th>super_anfitriao</th>\n",
              "      <th>multi</th>\n",
              "      <th>biz</th>\n",
              "      <th>nota_limpeza</th>\n",
              "      <th>satisfacao</th>\n",
              "      <th>quartos</th>\n",
              "      <th>distancia_centro</th>\n",
              "      <th>distancia_metro</th>\n",
              "    </tr>\n",
              "  </thead>\n",
              "  <tbody>\n",
              "    <tr>\n",
              "      <th>0</th>\n",
              "      <td>194.03</td>\n",
              "      <td>QUARTO PRIVADO</td>\n",
              "      <td>2.0</td>\n",
              "      <td>NAO</td>\n",
              "      <td>1</td>\n",
              "      <td>0</td>\n",
              "      <td>10.0</td>\n",
              "      <td>93.0</td>\n",
              "      <td>1</td>\n",
              "      <td>5.023</td>\n",
              "      <td>2.539</td>\n",
              "    </tr>\n",
              "    <tr>\n",
              "      <th>1</th>\n",
              "      <td>344.25</td>\n",
              "      <td>QUARTO PRIVADO</td>\n",
              "      <td>4.0</td>\n",
              "      <td>NAO</td>\n",
              "      <td>0</td>\n",
              "      <td>0</td>\n",
              "      <td>8.0</td>\n",
              "      <td>85.0</td>\n",
              "      <td>1</td>\n",
              "      <td>0.488</td>\n",
              "      <td>0.239</td>\n",
              "    </tr>\n",
              "    <tr>\n",
              "      <th>2</th>\n",
              "      <td>264.10</td>\n",
              "      <td>QUARTO PRIVADO</td>\n",
              "      <td>2.0</td>\n",
              "      <td>NAO</td>\n",
              "      <td>0</td>\n",
              "      <td>1</td>\n",
              "      <td>9.0</td>\n",
              "      <td>87.0</td>\n",
              "      <td>1</td>\n",
              "      <td>5.748</td>\n",
              "      <td>3.652</td>\n",
              "    </tr>\n",
              "    <tr>\n",
              "      <th>3</th>\n",
              "      <td>433.53</td>\n",
              "      <td>QUARTO PRIVADO</td>\n",
              "      <td>4.0</td>\n",
              "      <td>NAO</td>\n",
              "      <td>0</td>\n",
              "      <td>1</td>\n",
              "      <td>9.0</td>\n",
              "      <td>90.0</td>\n",
              "      <td>2</td>\n",
              "      <td>0.385</td>\n",
              "      <td>0.440</td>\n",
              "    </tr>\n",
              "    <tr>\n",
              "      <th>4</th>\n",
              "      <td>485.55</td>\n",
              "      <td>QUARTO PRIVADO</td>\n",
              "      <td>2.0</td>\n",
              "      <td>SIM</td>\n",
              "      <td>0</td>\n",
              "      <td>0</td>\n",
              "      <td>10.0</td>\n",
              "      <td>98.0</td>\n",
              "      <td>1</td>\n",
              "      <td>0.545</td>\n",
              "      <td>0.319</td>\n",
              "    </tr>\n",
              "    <tr>\n",
              "      <th>...</th>\n",
              "      <td>...</td>\n",
              "      <td>...</td>\n",
              "      <td>...</td>\n",
              "      <td>...</td>\n",
              "      <td>...</td>\n",
              "      <td>...</td>\n",
              "      <td>...</td>\n",
              "      <td>...</td>\n",
              "      <td>...</td>\n",
              "      <td>...</td>\n",
              "      <td>...</td>\n",
              "    </tr>\n",
              "    <tr>\n",
              "      <th>1098</th>\n",
              "      <td>2486.12</td>\n",
              "      <td>APT/CASA INTEIRA</td>\n",
              "      <td>2.0</td>\n",
              "      <td>NAO</td>\n",
              "      <td>0</td>\n",
              "      <td>0</td>\n",
              "      <td>10.0</td>\n",
              "      <td>100.0</td>\n",
              "      <td>1</td>\n",
              "      <td>2.376</td>\n",
              "      <td>1.436</td>\n",
              "    </tr>\n",
              "    <tr>\n",
              "      <th>1099</th>\n",
              "      <td>233.64</td>\n",
              "      <td>QUARTO PRIVADO</td>\n",
              "      <td>2.0</td>\n",
              "      <td>NAO</td>\n",
              "      <td>1</td>\n",
              "      <td>0</td>\n",
              "      <td>10.0</td>\n",
              "      <td>90.0</td>\n",
              "      <td>1</td>\n",
              "      <td>4.720</td>\n",
              "      <td>0.322</td>\n",
              "    </tr>\n",
              "    <tr>\n",
              "      <th>1100</th>\n",
              "      <td>317.06</td>\n",
              "      <td>QUARTO PRIVADO</td>\n",
              "      <td>2.0</td>\n",
              "      <td>NAO</td>\n",
              "      <td>1</td>\n",
              "      <td>0</td>\n",
              "      <td>10.0</td>\n",
              "      <td>92.0</td>\n",
              "      <td>1</td>\n",
              "      <td>0.598</td>\n",
              "      <td>0.752</td>\n",
              "    </tr>\n",
              "    <tr>\n",
              "      <th>1101</th>\n",
              "      <td>1812.86</td>\n",
              "      <td>APT/CASA INTEIRA</td>\n",
              "      <td>4.0</td>\n",
              "      <td>NAO</td>\n",
              "      <td>0</td>\n",
              "      <td>0</td>\n",
              "      <td>8.0</td>\n",
              "      <td>84.0</td>\n",
              "      <td>5</td>\n",
              "      <td>1.943</td>\n",
              "      <td>0.389</td>\n",
              "    </tr>\n",
              "    <tr>\n",
              "      <th>1102</th>\n",
              "      <td>258.01</td>\n",
              "      <td>QUARTO COMPARTILHADO</td>\n",
              "      <td>2.0</td>\n",
              "      <td>NAO</td>\n",
              "      <td>0</td>\n",
              "      <td>0</td>\n",
              "      <td>8.0</td>\n",
              "      <td>90.0</td>\n",
              "      <td>1</td>\n",
              "      <td>0.280</td>\n",
              "      <td>0.516</td>\n",
              "    </tr>\n",
              "  </tbody>\n",
              "</table>\n",
              "<p>1103 rows × 11 columns</p>\n",
              "</div>\n",
              "      <button class=\"colab-df-convert\" onclick=\"convertToInteractive('df-a55de8cb-f9f5-4cd2-9f67-d91104a821f4')\"\n",
              "              title=\"Convert this dataframe to an interactive table.\"\n",
              "              style=\"display:none;\">\n",
              "\n",
              "  <svg xmlns=\"http://www.w3.org/2000/svg\" height=\"24px\"viewBox=\"0 0 24 24\"\n",
              "       width=\"24px\">\n",
              "    <path d=\"M0 0h24v24H0V0z\" fill=\"none\"/>\n",
              "    <path d=\"M18.56 5.44l.94 2.06.94-2.06 2.06-.94-2.06-.94-.94-2.06-.94 2.06-2.06.94zm-11 1L8.5 8.5l.94-2.06 2.06-.94-2.06-.94L8.5 2.5l-.94 2.06-2.06.94zm10 10l.94 2.06.94-2.06 2.06-.94-2.06-.94-.94-2.06-.94 2.06-2.06.94z\"/><path d=\"M17.41 7.96l-1.37-1.37c-.4-.4-.92-.59-1.43-.59-.52 0-1.04.2-1.43.59L10.3 9.45l-7.72 7.72c-.78.78-.78 2.05 0 2.83L4 21.41c.39.39.9.59 1.41.59.51 0 1.02-.2 1.41-.59l7.78-7.78 2.81-2.81c.8-.78.8-2.07 0-2.86zM5.41 20L4 18.59l7.72-7.72 1.47 1.35L5.41 20z\"/>\n",
              "  </svg>\n",
              "      </button>\n",
              "\n",
              "\n",
              "\n",
              "    <div id=\"df-3f582802-3742-476b-8fa7-693d53d96691\">\n",
              "      <button class=\"colab-df-quickchart\" onclick=\"quickchart('df-3f582802-3742-476b-8fa7-693d53d96691')\"\n",
              "              title=\"Suggest charts.\"\n",
              "              style=\"display:none;\">\n",
              "\n",
              "<svg xmlns=\"http://www.w3.org/2000/svg\" height=\"24px\"viewBox=\"0 0 24 24\"\n",
              "     width=\"24px\">\n",
              "    <g>\n",
              "        <path d=\"M19 3H5c-1.1 0-2 .9-2 2v14c0 1.1.9 2 2 2h14c1.1 0 2-.9 2-2V5c0-1.1-.9-2-2-2zM9 17H7v-7h2v7zm4 0h-2V7h2v10zm4 0h-2v-4h2v4z\"/>\n",
              "    </g>\n",
              "</svg>\n",
              "      </button>\n",
              "    </div>\n",
              "\n",
              "<style>\n",
              "  .colab-df-quickchart {\n",
              "    background-color: #E8F0FE;\n",
              "    border: none;\n",
              "    border-radius: 50%;\n",
              "    cursor: pointer;\n",
              "    display: none;\n",
              "    fill: #1967D2;\n",
              "    height: 32px;\n",
              "    padding: 0 0 0 0;\n",
              "    width: 32px;\n",
              "  }\n",
              "\n",
              "  .colab-df-quickchart:hover {\n",
              "    background-color: #E2EBFA;\n",
              "    box-shadow: 0px 1px 2px rgba(60, 64, 67, 0.3), 0px 1px 3px 1px rgba(60, 64, 67, 0.15);\n",
              "    fill: #174EA6;\n",
              "  }\n",
              "\n",
              "  [theme=dark] .colab-df-quickchart {\n",
              "    background-color: #3B4455;\n",
              "    fill: #D2E3FC;\n",
              "  }\n",
              "\n",
              "  [theme=dark] .colab-df-quickchart:hover {\n",
              "    background-color: #434B5C;\n",
              "    box-shadow: 0px 1px 3px 1px rgba(0, 0, 0, 0.15);\n",
              "    filter: drop-shadow(0px 1px 2px rgba(0, 0, 0, 0.3));\n",
              "    fill: #FFFFFF;\n",
              "  }\n",
              "</style>\n",
              "\n",
              "    <script>\n",
              "      async function quickchart(key) {\n",
              "        const containerElement = document.querySelector('#' + key);\n",
              "        const charts = await google.colab.kernel.invokeFunction(\n",
              "            'suggestCharts', [key], {});\n",
              "      }\n",
              "    </script>\n",
              "\n",
              "      <script>\n",
              "\n",
              "function displayQuickchartButton(domScope) {\n",
              "  let quickchartButtonEl =\n",
              "    domScope.querySelector('#df-3f582802-3742-476b-8fa7-693d53d96691 button.colab-df-quickchart');\n",
              "  quickchartButtonEl.style.display =\n",
              "    google.colab.kernel.accessAllowed ? 'block' : 'none';\n",
              "}\n",
              "\n",
              "        displayQuickchartButton(document);\n",
              "      </script>\n",
              "      <style>\n",
              "    .colab-df-container {\n",
              "      display:flex;\n",
              "      flex-wrap:wrap;\n",
              "      gap: 12px;\n",
              "    }\n",
              "\n",
              "    .colab-df-convert {\n",
              "      background-color: #E8F0FE;\n",
              "      border: none;\n",
              "      border-radius: 50%;\n",
              "      cursor: pointer;\n",
              "      display: none;\n",
              "      fill: #1967D2;\n",
              "      height: 32px;\n",
              "      padding: 0 0 0 0;\n",
              "      width: 32px;\n",
              "    }\n",
              "\n",
              "    .colab-df-convert:hover {\n",
              "      background-color: #E2EBFA;\n",
              "      box-shadow: 0px 1px 2px rgba(60, 64, 67, 0.3), 0px 1px 3px 1px rgba(60, 64, 67, 0.15);\n",
              "      fill: #174EA6;\n",
              "    }\n",
              "\n",
              "    [theme=dark] .colab-df-convert {\n",
              "      background-color: #3B4455;\n",
              "      fill: #D2E3FC;\n",
              "    }\n",
              "\n",
              "    [theme=dark] .colab-df-convert:hover {\n",
              "      background-color: #434B5C;\n",
              "      box-shadow: 0px 1px 3px 1px rgba(0, 0, 0, 0.15);\n",
              "      filter: drop-shadow(0px 1px 2px rgba(0, 0, 0, 0.3));\n",
              "      fill: #FFFFFF;\n",
              "    }\n",
              "  </style>\n",
              "\n",
              "      <script>\n",
              "        const buttonEl =\n",
              "          document.querySelector('#df-a55de8cb-f9f5-4cd2-9f67-d91104a821f4 button.colab-df-convert');\n",
              "        buttonEl.style.display =\n",
              "          google.colab.kernel.accessAllowed ? 'block' : 'none';\n",
              "\n",
              "        async function convertToInteractive(key) {\n",
              "          const element = document.querySelector('#df-a55de8cb-f9f5-4cd2-9f67-d91104a821f4');\n",
              "          const dataTable =\n",
              "            await google.colab.kernel.invokeFunction('convertToInteractive',\n",
              "                                                     [key], {});\n",
              "          if (!dataTable) return;\n",
              "\n",
              "          const docLinkHtml = 'Like what you see? Visit the ' +\n",
              "            '<a target=\"_blank\" href=https://colab.research.google.com/notebooks/data_table.ipynb>data table notebook</a>'\n",
              "            + ' to learn more about interactive tables.';\n",
              "          element.innerHTML = '';\n",
              "          dataTable['output_type'] = 'display_data';\n",
              "          await google.colab.output.renderOutput(dataTable, element);\n",
              "          const docLink = document.createElement('div');\n",
              "          docLink.innerHTML = docLinkHtml;\n",
              "          element.appendChild(docLink);\n",
              "        }\n",
              "      </script>\n",
              "    </div>\n",
              "  </div>\n"
            ]
          },
          "metadata": {},
          "execution_count": 27
        }
      ]
    },
    {
      "cell_type": "code",
      "source": [
        "#conferindo os dados dentro das colunas\n",
        "print(sorted(pd.unique(df['capacidade'])))"
      ],
      "metadata": {
        "id": "Xl_3D5ueMqRg",
        "colab": {
          "base_uri": "https://localhost:8080/"
        },
        "outputId": "e9c4277f-3ab4-4827-ac9f-63bc3e61261b"
      },
      "execution_count": 28,
      "outputs": [
        {
          "output_type": "stream",
          "name": "stdout",
          "text": [
            "[2.0, 3.0, 4.0, 5.0, 6.0]\n"
          ]
        }
      ]
    },
    {
      "cell_type": "code",
      "source": [
        "#conferindo os dados dentro das colunas\n",
        "print(sorted(pd.unique(df['multi'])))"
      ],
      "metadata": {
        "id": "R6d7lveXRACQ",
        "colab": {
          "base_uri": "https://localhost:8080/"
        },
        "outputId": "1120716a-4c71-4372-9de9-cdbdc0482717"
      },
      "execution_count": 29,
      "outputs": [
        {
          "output_type": "stream",
          "name": "stdout",
          "text": [
            "[0, 1]\n"
          ]
        }
      ]
    },
    {
      "cell_type": "code",
      "source": [
        "#conferindo os dados dentro das colunas\n",
        "print(sorted(pd.unique(df['biz'])))"
      ],
      "metadata": {
        "id": "Lut454sMRFJP",
        "colab": {
          "base_uri": "https://localhost:8080/"
        },
        "outputId": "69406e27-b9d0-431a-a530-ecbe44ffe5ee"
      },
      "execution_count": 30,
      "outputs": [
        {
          "output_type": "stream",
          "name": "stdout",
          "text": [
            "[0, 1]\n"
          ]
        }
      ]
    },
    {
      "cell_type": "code",
      "source": [
        "#conferindo os dados dentro das colunas\n",
        "print(sorted(pd.unique(df['nota_limpeza'])))"
      ],
      "metadata": {
        "id": "kmV6POgTRMBA",
        "colab": {
          "base_uri": "https://localhost:8080/"
        },
        "outputId": "28d7ae14-99c7-4af8-cd05-af56b1c6ba57"
      },
      "execution_count": 31,
      "outputs": [
        {
          "output_type": "stream",
          "name": "stdout",
          "text": [
            "[4.0, 5.0, 6.0, 7.0, 8.0, 9.0, 10.0]\n"
          ]
        }
      ]
    },
    {
      "cell_type": "code",
      "source": [
        "#conferindo os dados dentro das colunas\n",
        "print(sorted(pd.unique(df['satisfacao'])))"
      ],
      "metadata": {
        "id": "NaRp1Ox6RSj2"
      },
      "execution_count": null,
      "outputs": []
    },
    {
      "cell_type": "code",
      "source": [
        "#conferindo os dados dentro das colunas\n",
        "print(sorted(pd.unique(df['quartos'])))"
      ],
      "metadata": {
        "id": "00g4H2HhRYIC",
        "colab": {
          "base_uri": "https://localhost:8080/"
        },
        "outputId": "996b2fd8-ea8f-4b0a-a755-39dccbb85177"
      },
      "execution_count": 33,
      "outputs": [
        {
          "output_type": "stream",
          "name": "stdout",
          "text": [
            "[0, 1, 2, 3, 4, 5]\n"
          ]
        }
      ]
    },
    {
      "cell_type": "code",
      "source": [
        "#conferindo os dados dentro das colunas\n",
        "print(sorted(pd.unique(df['distancia_centro'])))"
      ],
      "metadata": {
        "id": "dh4xtClxRfmG"
      },
      "execution_count": null,
      "outputs": []
    },
    {
      "cell_type": "code",
      "source": [
        "#conferindo os dados dentro das colunas\n",
        "print(sorted(pd.unique(df['distancia_metro'])))"
      ],
      "metadata": {
        "id": "3gy8yTwIRllj"
      },
      "execution_count": null,
      "outputs": []
    },
    {
      "cell_type": "code",
      "source": [
        "#alterando o tipo de dados\n",
        "df['capacidade'] = df['capacidade'].astype(int)\n",
        "df['nota_limpeza'] = df['nota_limpeza'].astype(int)\n",
        "\n",
        "df"
      ],
      "metadata": {
        "id": "Nool10GrTKTT"
      },
      "execution_count": null,
      "outputs": []
    },
    {
      "cell_type": "markdown",
      "source": [
        "## Qualidade e integridade dos dados"
      ],
      "metadata": {
        "id": "TRANBK6ZSNYo"
      }
    },
    {
      "cell_type": "code",
      "source": [
        "df.dtypes"
      ],
      "metadata": {
        "id": "GIihfyA3SZ_G",
        "colab": {
          "base_uri": "https://localhost:8080/"
        },
        "outputId": "dcbc972d-18d6-4c12-bb89-e2603a62d4ff"
      },
      "execution_count": 37,
      "outputs": [
        {
          "output_type": "execute_result",
          "data": {
            "text/plain": [
              "preco_total         float64\n",
              "tipo_quarto          object\n",
              "capacidade            int64\n",
              "super_anfitriao      object\n",
              "multi                 int64\n",
              "biz                   int64\n",
              "nota_limpeza          int64\n",
              "satisfacao          float64\n",
              "quartos               int64\n",
              "distancia_centro    float64\n",
              "distancia_metro     float64\n",
              "dtype: object"
            ]
          },
          "metadata": {},
          "execution_count": 37
        }
      ]
    },
    {
      "cell_type": "code",
      "source": [
        "# Definir o esquema de validação\n",
        "schema = pa.DataFrameSchema({'preco_total': pa.Column(pa.Float),\n",
        "                            'tipo_quarto': pa.Column(pa.String),\n",
        "                            'capacidade': pa.Column(pa.Int),\n",
        "                            'super_anfitriao': pa.Column(pa.String),\n",
        "                            'multi': pa.Column(pa.Int),\n",
        "                            'biz': pa.Column(pa.Int),\n",
        "                            'nota_limpeza': pa.Column(pa.Int),\n",
        "                            'satisfacao': pa.Column(pa.Float),\n",
        "                            'quartos': pa.Column(pa.Int),\n",
        "                            'distancia_centro': pa.Column(pa.Float),\n",
        "                            'distancia_metro': pa.Column(pa.Float)\n",
        "                            })\n",
        "\n",
        "# Validar o DataFrame\n",
        "schema.validate(df)"
      ],
      "metadata": {
        "id": "ffvzoD0ESYh3"
      },
      "execution_count": null,
      "outputs": []
    },
    {
      "cell_type": "code",
      "source": [
        "# Backup local do df tratado\n",
        "dfback3 = df.copy()"
      ],
      "metadata": {
        "id": "OhLP2d2xUrlD"
      },
      "execution_count": 39,
      "outputs": []
    },
    {
      "cell_type": "markdown",
      "source": [
        "## Carregamento"
      ],
      "metadata": {
        "id": "O_qkhtm2vkqV"
      }
    },
    {
      "cell_type": "code",
      "source": [
        "# Exportação em uma pasta Google Drive\n",
        "#df.to_csv('/content/drive/MyDrive/TrabalhosSoulcode/Airbnb/Airbnb_tratado.csv',index=False)"
      ],
      "metadata": {
        "id": "_Y1iTco2dahq"
      },
      "execution_count": 40,
      "outputs": []
    },
    {
      "cell_type": "code",
      "source": [
        "# Google Cloud\n",
        "df.to_csv('gs://caroline_carneiro/Projeto Airbnb/dados_tratados/airbnb_tratado.csv',  index=False) # salva no bucket\n"
      ],
      "metadata": {
        "id": "8mwxPinptXRH"
      },
      "execution_count": 41,
      "outputs": []
    },
    {
      "cell_type": "code",
      "source": [
        "# Backup local do df\n",
        "dfback2 = df.copy()"
      ],
      "metadata": {
        "id": "ODQ7ebWccQU5"
      },
      "execution_count": 42,
      "outputs": []
    },
    {
      "cell_type": "markdown",
      "source": [
        "# Groupby\n"
      ],
      "metadata": {
        "id": "YL6_Nkj2c8wd"
      }
    },
    {
      "cell_type": "code",
      "source": [
        "# achando a contagem de airbnb por nivel de satisfacao\n",
        "df.groupby(['satisfacao']).size()"
      ],
      "metadata": {
        "id": "gm5wgnEDs-84",
        "colab": {
          "base_uri": "https://localhost:8080/"
        },
        "outputId": "3bfbca3b-262b-4f53-e4cf-2dfa3562489c"
      },
      "execution_count": 43,
      "outputs": [
        {
          "output_type": "execute_result",
          "data": {
            "text/plain": [
              "satisfacao\n",
              "20.0       1\n",
              "47.0       1\n",
              "60.0       3\n",
              "65.0       1\n",
              "70.0       1\n",
              "73.0       1\n",
              "74.0       1\n",
              "75.0       2\n",
              "76.0       1\n",
              "77.0       1\n",
              "78.0       3\n",
              "80.0      24\n",
              "81.0       3\n",
              "82.0       5\n",
              "83.0       6\n",
              "84.0      11\n",
              "85.0      13\n",
              "86.0      14\n",
              "87.0      21\n",
              "88.0      30\n",
              "89.0      20\n",
              "90.0      51\n",
              "91.0      30\n",
              "92.0      48\n",
              "93.0      67\n",
              "94.0      69\n",
              "95.0      82\n",
              "96.0     121\n",
              "97.0      95\n",
              "98.0     122\n",
              "99.0      65\n",
              "100.0    190\n",
              "dtype: int64"
            ]
          },
          "metadata": {},
          "execution_count": 43
        }
      ]
    },
    {
      "cell_type": "code",
      "source": [
        "df.groupby(['satisfacao']).size().sort_values()"
      ],
      "metadata": {
        "id": "-MvyKe1Lxqnb",
        "colab": {
          "base_uri": "https://localhost:8080/"
        },
        "outputId": "27906bbe-f892-4a72-b38f-ab18c716ea9c"
      },
      "execution_count": 44,
      "outputs": [
        {
          "output_type": "execute_result",
          "data": {
            "text/plain": [
              "satisfacao\n",
              "20.0       1\n",
              "47.0       1\n",
              "65.0       1\n",
              "70.0       1\n",
              "73.0       1\n",
              "74.0       1\n",
              "76.0       1\n",
              "77.0       1\n",
              "75.0       2\n",
              "60.0       3\n",
              "78.0       3\n",
              "81.0       3\n",
              "82.0       5\n",
              "83.0       6\n",
              "84.0      11\n",
              "85.0      13\n",
              "86.0      14\n",
              "89.0      20\n",
              "87.0      21\n",
              "80.0      24\n",
              "88.0      30\n",
              "91.0      30\n",
              "92.0      48\n",
              "90.0      51\n",
              "99.0      65\n",
              "93.0      67\n",
              "94.0      69\n",
              "95.0      82\n",
              "97.0      95\n",
              "96.0     121\n",
              "98.0     122\n",
              "100.0    190\n",
              "dtype: int64"
            ]
          },
          "metadata": {},
          "execution_count": 44
        }
      ]
    },
    {
      "cell_type": "code",
      "source": [
        "# fazendo a contagem de airbnd por capacidade\n",
        "df.groupby(['capacidade']).size().sort_values(ascending=False)"
      ],
      "metadata": {
        "id": "MmBppKyNx707",
        "colab": {
          "base_uri": "https://localhost:8080/"
        },
        "outputId": "853893e2-1583-43a8-d5fb-b5de2a33e0c7"
      },
      "execution_count": 45,
      "outputs": [
        {
          "output_type": "execute_result",
          "data": {
            "text/plain": [
              "capacidade\n",
              "2    656\n",
              "4    333\n",
              "3     79\n",
              "6     24\n",
              "5     11\n",
              "dtype: int64"
            ]
          },
          "metadata": {},
          "execution_count": 45
        }
      ]
    },
    {
      "cell_type": "code",
      "source": [
        "df"
      ],
      "metadata": {
        "id": "o_mIGkcQizX0"
      },
      "execution_count": null,
      "outputs": []
    },
    {
      "cell_type": "code",
      "source": [
        "# fazendo a contagem de airbnb que são super_anfitriao\n",
        "df.groupby(['super_anfitriao']).size().sort_values(ascending=False)"
      ],
      "metadata": {
        "id": "hbFZOSZDyiBV",
        "colab": {
          "base_uri": "https://localhost:8080/"
        },
        "outputId": "52491611-e300-4257-d9a3-60038d3b9fa7"
      },
      "execution_count": 47,
      "outputs": [
        {
          "output_type": "execute_result",
          "data": {
            "text/plain": [
              "super_anfitriao\n",
              "NAO    780\n",
              "SIM    323\n",
              "dtype: int64"
            ]
          },
          "metadata": {},
          "execution_count": 47
        }
      ]
    },
    {
      "cell_type": "code",
      "source": [
        "hoteis_proximo_centro = df[\"distancia_centro\"] < 1\n",
        "\n",
        "print(hoteis_proximo_centro)"
      ],
      "metadata": {
        "id": "RS-onzVB1upF",
        "colab": {
          "base_uri": "https://localhost:8080/"
        },
        "outputId": "99e23e23-91ea-4801-fdb5-d17ce9d5cb00"
      },
      "execution_count": 48,
      "outputs": [
        {
          "output_type": "stream",
          "name": "stdout",
          "text": [
            "0       False\n",
            "1        True\n",
            "2       False\n",
            "3        True\n",
            "4        True\n",
            "        ...  \n",
            "1098    False\n",
            "1099    False\n",
            "1100     True\n",
            "1101    False\n",
            "1102     True\n",
            "Name: distancia_centro, Length: 1103, dtype: bool\n"
          ]
        }
      ]
    },
    {
      "cell_type": "code",
      "source": [
        "df"
      ],
      "metadata": {
        "id": "O-nlbivD1_Y5"
      },
      "execution_count": null,
      "outputs": []
    },
    {
      "cell_type": "code",
      "source": [
        "df.groupby(['capacidade']).size()"
      ],
      "metadata": {
        "id": "rsByx3BZiJZW",
        "colab": {
          "base_uri": "https://localhost:8080/"
        },
        "outputId": "1e6ba107-50f0-448d-8c29-bd2be1f2db55"
      },
      "execution_count": 50,
      "outputs": [
        {
          "output_type": "execute_result",
          "data": {
            "text/plain": [
              "capacidade\n",
              "2    656\n",
              "3     79\n",
              "4    333\n",
              "5     11\n",
              "6     24\n",
              "dtype: int64"
            ]
          },
          "metadata": {},
          "execution_count": 50
        }
      ]
    },
    {
      "cell_type": "markdown",
      "source": [
        "# Análise"
      ],
      "metadata": {
        "id": "0cgCUtHBmQ_1"
      }
    },
    {
      "cell_type": "code",
      "source": [
        "## describle dos valores com outliers\n",
        "df['preco_total'].describe()"
      ],
      "metadata": {
        "id": "5sS063jDt9ja",
        "colab": {
          "base_uri": "https://localhost:8080/"
        },
        "outputId": "86c20c30-1f96-4819-c5d3-21389b22f395"
      },
      "execution_count": 51,
      "outputs": [
        {
          "output_type": "execute_result",
          "data": {
            "text/plain": [
              "count    1103.000000\n",
              "mean      545.020535\n",
              "std       416.974277\n",
              "min       128.890000\n",
              "25%       309.800000\n",
              "50%       430.250000\n",
              "75%       657.320000\n",
              "max      7782.910000\n",
              "Name: preco_total, dtype: float64"
            ]
          },
          "metadata": {},
          "execution_count": 51
        }
      ]
    },
    {
      "cell_type": "code",
      "source": [
        "# encontrando as medidas estatísticas\n",
        "Q1 = df['preco_total'].describe()[4]\n",
        "Q3 = df['preco_total'].describe()[6]\n",
        "\n",
        "amplitude_interquatilica = Q3 - Q1\n",
        "\n",
        "#encontrando limite inferior e superior\n",
        "limite_inferior = Q1 - 1.5 * amplitude_interquatilica\n",
        "limite_superior = Q3 + 1.5 * amplitude_interquatilica\n",
        "\n",
        "# encontrando e eliminando os outliers\n",
        "for i in range(len(df.preco_total)):\n",
        "  if df.preco_total[i] < limite_inferior or df.preco_total[i] > limite_superior:\n",
        "    df.drop([i], inplace = True)"
      ],
      "metadata": {
        "id": "Kh_3U_gLBQyv"
      },
      "execution_count": 52,
      "outputs": []
    },
    {
      "cell_type": "code",
      "source": [
        "#conferindo\n",
        "df['preco_total'].describe()"
      ],
      "metadata": {
        "id": "Pt26tVsAnUvN",
        "colab": {
          "base_uri": "https://localhost:8080/"
        },
        "outputId": "f3f565d3-ad58-4e23-f4b1-1310b1e0efa1"
      },
      "execution_count": 53,
      "outputs": [
        {
          "output_type": "execute_result",
          "data": {
            "text/plain": [
              "count    1047.000000\n",
              "mean      480.533725\n",
              "std       228.301101\n",
              "min       128.890000\n",
              "25%       306.635000\n",
              "50%       411.500000\n",
              "75%       614.440000\n",
              "max      1167.250000\n",
              "Name: preco_total, dtype: float64"
            ]
          },
          "metadata": {},
          "execution_count": 53
        }
      ]
    },
    {
      "cell_type": "code",
      "source": [
        "# Calcule a média dos preços airbnb\n",
        "media = df['preco_total'].mean()\n",
        "\n",
        "# Calcule a moda dos preços airbnb\n",
        "moda = df['preco_total'].mode()[0]  # Pode haver mais de uma moda, então pegamos apenas a primeira\n",
        "\n",
        "# Calcule a mediana dos preços airbnb\n",
        "mediana = df['preco_total'].median()\n",
        "\n",
        "# Imprima os resultados\n",
        "print('Média:', media)\n",
        "print('Moda:', moda)\n",
        "print('Mediana:', mediana)"
      ],
      "metadata": {
        "id": "3igE4oLmnWil",
        "colab": {
          "base_uri": "https://localhost:8080/"
        },
        "outputId": "d257d98c-52ad-46b0-cfe8-c52cfa694a9d"
      },
      "execution_count": 54,
      "outputs": [
        {
          "output_type": "stream",
          "name": "stdout",
          "text": [
            "Média: 480.5337249283667\n",
            "Moda: 614.44\n",
            "Mediana: 411.5\n"
          ]
        }
      ]
    },
    {
      "cell_type": "code",
      "source": [
        "df.tipo_quarto.value_counts()"
      ],
      "metadata": {
        "id": "Po6zgQ_9l0Fq",
        "colab": {
          "base_uri": "https://localhost:8080/"
        },
        "outputId": "4658d031-5bdb-4ab9-9c30-e1a1b4c6f7a2"
      },
      "execution_count": 55,
      "outputs": [
        {
          "output_type": "execute_result",
          "data": {
            "text/plain": [
              "QUARTO PRIVADO          555\n",
              "APT/CASA INTEIRA        486\n",
              "QUARTO COMPARTILHADO      6\n",
              "Name: tipo_quarto, dtype: int64"
            ]
          },
          "metadata": {},
          "execution_count": 55
        }
      ]
    },
    {
      "cell_type": "code",
      "source": [
        "# mostrar a porcentagem de cada tipo de imóvel disponível\n",
        "df.tipo_quarto.value_counts()/df.shape[0]"
      ],
      "metadata": {
        "id": "5a3WJFU6mLVC",
        "colab": {
          "base_uri": "https://localhost:8080/"
        },
        "outputId": "d9d0ec82-1cf7-4b77-b58f-e515d943c048"
      },
      "execution_count": 56,
      "outputs": [
        {
          "output_type": "execute_result",
          "data": {
            "text/plain": [
              "QUARTO PRIVADO          0.530086\n",
              "APT/CASA INTEIRA        0.464183\n",
              "QUARTO COMPARTILHADO    0.005731\n",
              "Name: tipo_quarto, dtype: float64"
            ]
          },
          "metadata": {},
          "execution_count": 56
        }
      ]
    },
    {
      "cell_type": "code",
      "source": [
        "# mostrar a porcentagem de cada tipo de imóvel disponível\n",
        "df.capacidade.value_counts()/df.shape[0]"
      ],
      "metadata": {
        "id": "EjHNXVjam7H2",
        "colab": {
          "base_uri": "https://localhost:8080/"
        },
        "outputId": "697912b6-73c3-44c3-ae25-504093619feb"
      },
      "execution_count": 57,
      "outputs": [
        {
          "output_type": "execute_result",
          "data": {
            "text/plain": [
              "2    0.621777\n",
              "4    0.288443\n",
              "3    0.071633\n",
              "6    0.010506\n",
              "5    0.007641\n",
              "Name: capacidade, dtype: float64"
            ]
          },
          "metadata": {},
          "execution_count": 57
        }
      ]
    },
    {
      "cell_type": "markdown",
      "source": [
        "# visualizações"
      ],
      "metadata": {
        "id": "1iYe7OsKz0MY"
      }
    },
    {
      "cell_type": "code",
      "source": [
        "import seaborn as sns\n",
        "\n",
        "sns.boxplot(df.preco_total)\n",
        "plt.title('Boxplot dos Preços')"
      ],
      "metadata": {
        "id": "sUq7PCJ2VapH",
        "colab": {
          "base_uri": "https://localhost:8080/",
          "height": 470
        },
        "outputId": "3884cacd-be05-48c2-b672-29d1c500182b"
      },
      "execution_count": 73,
      "outputs": [
        {
          "output_type": "execute_result",
          "data": {
            "text/plain": [
              "Text(0.5, 1.0, 'Boxplot dos Preços')"
            ]
          },
          "metadata": {},
          "execution_count": 73
        },
        {
          "output_type": "display_data",
          "data": {
            "text/plain": [
              "<Figure size 640x480 with 1 Axes>"
            ],
            "image/png": "[encoded data removed]"
          },
          "metadata": {}
        }
      ]
    },
    {
      "cell_type": "code",
      "source": [
        "# grafico de barras com os dados da capacidade de pessoas do airbnb x disponibilidade\n",
        "df.groupby(['capacidade'], dropna=False).size().sort_values(ascending=False).plot.bar(figsize=(10, 2))\n",
        "plt.title('Capacidade de pessoas x Quantidade de Airbnb')"
      ],
      "metadata": {
        "id": "qZ61k7Q5pFV-",
        "colab": {
          "base_uri": "https://localhost:8080/",
          "height": 269
        },
        "outputId": "efafcce3-0d8a-41ee-a18b-a0be86fbcb5a"
      },
      "execution_count": 74,
      "outputs": [
        {
          "output_type": "execute_result",
          "data": {
            "text/plain": [
              "Text(0.5, 1.0, 'Capacidade de pessoas x Quantidade de Airbnb')"
            ]
          },
          "metadata": {},
          "execution_count": 74
        },
        {
          "output_type": "display_data",
          "data": {
            "text/plain": [
              "<Figure size 1000x200 with 1 Axes>"
            ],
            "image/png": "[encoded data removed]"
          },
          "metadata": {}
        }
      ]
    },
    {
      "cell_type": "code",
      "source": [
        "# grafico de barras da predominância dos tipos de quarto x disponibilidade\n",
        "df.groupby(['tipo_quarto'], dropna=False).size().sort_values(ascending=False).plot.bar(figsize=(10, 2))\n",
        "plt.title('Tipos de Quartos')"
      ],
      "metadata": {
        "id": "D_d08BTizOzD",
        "colab": {
          "base_uri": "https://localhost:8080/",
          "height": 443
        },
        "outputId": "467f5ff3-7c18-4f80-bcef-4feef92dd761"
      },
      "execution_count": 69,
      "outputs": [
        {
          "output_type": "execute_result",
          "data": {
            "text/plain": [
              "Text(0.5, 1.0, 'Tipos de Quartos')"
            ]
          },
          "metadata": {},
          "execution_count": 69
        },
        {
          "output_type": "display_data",
          "data": {
            "text/plain": [
              "<Figure size 1000x200 with 1 Axes>"
            ],
            "image/png": "[encoded data removed]"
          },
          "metadata": {}
        }
      ]
    },
    {
      "cell_type": "code",
      "source": [
        "# gráfico de barras horizontal sobre a quantidade de airbnb X nota de limpeza\n",
        "df.groupby(['nota_limpeza'], dropna=False).size().sort_values(ascending=False).plot.barh(figsize=(10, 2), xlabel='qtde_airbns')\n",
        "plt.title('Avaliação de limpeza x Quantidade de Airbnb')"
      ],
      "metadata": {
        "id": "sGd9s0a6Hfyj",
        "colab": {
          "base_uri": "https://localhost:8080/",
          "height": 274
        },
        "outputId": "06b96b50-0c15-4f62-ec66-e0850a4608f4"
      },
      "execution_count": 71,
      "outputs": [
        {
          "output_type": "execute_result",
          "data": {
            "text/plain": [
              "Text(0.5, 1.0, 'Avaliação de limpeza x Quantidade de Airbnb')"
            ]
          },
          "metadata": {},
          "execution_count": 71
        },
        {
          "output_type": "display_data",
          "data": {
            "text/plain": [
              "<Figure size 1000x200 with 1 Axes>"
            ],
            "image/png": "[encoded data removed]"
          },
          "metadata": {}
        }
      ]
    },
    {
      "cell_type": "code",
      "source": [
        "# heatmap para veridicar as correlações\n",
        "corr = df.corr()\n",
        "plt.figure(figsize=(10,10))\n",
        "sns.heatmap(corr, fmt='.2f' ,cmap='BuPu',annot=True, square=True);\n",
        "plt.title('Correlações entre atributos')"
      ],
      "metadata": {
        "id": "B2ooC54_3Gvy",
        "colab": {
          "base_uri": "https://localhost:8080/",
          "height": 936
        },
        "outputId": "904d48d8-cdbe-4faa-e91b-c96dfb23b93e"
      },
      "execution_count": 72,
      "outputs": [
        {
          "output_type": "stream",
          "name": "stderr",
          "text": [
            "<ipython-input-72-64c95cbd010f>:2: FutureWarning: The default value of numeric_only in DataFrame.corr is deprecated. In a future version, it will default to False. Select only valid columns or specify the value of numeric_only to silence this warning.\n",
            "  corr = df.corr()\n"
          ]
        },
        {
          "output_type": "execute_result",
          "data": {
            "text/plain": [
              "Text(0.5, 1.0, 'Correlações entre atributos')"
            ]
          },
          "metadata": {},
          "execution_count": 72
        },
        {
          "output_type": "display_data",
          "data": {
            "text/plain": [
              "<Figure size 1000x1000 with 2 Axes>"
            ],
            "image/png": "[encoded data removed]"
          },
          "metadata": {}
        }
      ]
    },
    {
      "cell_type": "markdown",
      "source": [
        "# Conclusão"
      ],
      "metadata": {
        "id": "G6Wgr-7y7n8H"
      }
    },
    {
      "cell_type": "markdown",
      "source": [
        "Foi realizada uma análise geral na base de dados de instações Airbnb em Amsterdã, nessa análise verificamos em relação ao preços dos airbnb do estudo como média de valores €480.53, a moda €614.44 e a mediana €411.50, já desconsiderando os outliers.\n",
        "Em relação a nível satisfação percebemos que os Airbnbs com melhores notas, também possuem boas avaliações de limpeza, mostrando uma possivel relação.\n",
        "Também percebemos que 53% instalações airbnb do estudo são quartos privados e 46% apt/ casa inteira. Em relação a capacidade 62% das instalações recebem até 2 pessoas."
      ],
      "metadata": {
        "id": "vqNxW2d1EFeO"
      }
    }
  ]
}